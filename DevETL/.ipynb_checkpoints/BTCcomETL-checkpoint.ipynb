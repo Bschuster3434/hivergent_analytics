{
 "cells": [
  {
   "cell_type": "code",
   "execution_count": 5,
   "metadata": {},
   "outputs": [],
   "source": [
    "import pandas\n",
    "import requests\n",
    "from requests.compat import urljoin\n",
    "import datetime\n",
    "import time\n",
    "import json"
   ]
  },
  {
   "cell_type": "code",
   "execution_count": 6,
   "metadata": {},
   "outputs": [],
   "source": [
    "#Appears to be a freely available BTC API\n",
    "#https://btc.com/api-doc#General"
   ]
  },
  {
   "cell_type": "code",
   "execution_count": 7,
   "metadata": {},
   "outputs": [],
   "source": [
    "#Starting Point for analysis\n",
    "starting_block = 501798 #Dec 31st 2017 start\n",
    "ending_block = 501960 #Dec 31st 2017 end\n",
    "get_blocks_by_range = 100"
   ]
  },
  {
   "cell_type": "code",
   "execution_count": 14,
   "metadata": {},
   "outputs": [],
   "source": [
    "#https://chain.api.btc.com/v3/block/3\n",
    "url_endpoint = \"https://chain.api.btc.com\""
   ]
  },
  {
   "cell_type": "code",
   "execution_count": 45,
   "metadata": {},
   "outputs": [],
   "source": [
    "#Datapoints per transaction needed\n",
    "# Timestamp\n",
    "# Unique Hash\n",
    "# Account Sending\n",
    "# Account Receiving (May be smart contract)\n",
    "# Tx Fee\n",
    "# Size of Data (I don't see this here... I'll skip it for now)\n",
    "# Network Name (duh)\n",
    "# Transaction Status\n",
    "# Value of Transaction"
   ]
  },
  {
   "cell_type": "code",
   "execution_count": 39,
   "metadata": {},
   "outputs": [],
   "source": [
    "#One block of transactions\n",
    "next_url_call = urljoin(url_endpoint, \"v3/block/\" + str(starting_block) + \"/tx\")\n",
    "resp = json.loads(requests.get(next_url_call).content)"
   ]
  },
  {
   "cell_type": "code",
   "execution_count": 44,
   "metadata": {},
   "outputs": [
    {
     "name": "stdout",
     "output_type": "stream",
     "text": [
      "{u'weight': 780, u'witness_hash': u'0ead92faa96a6e95788186e0c4d72d96571e9044ec630acc139083b14b41a42e', u'block_height': 501798, u'block_time': 1514678885, u'size': 222, u'fee': 497726859, u'version': 1, u'is_coinbase': True, u'is_double_spend': False, u'sigops': 4, u'inputs': [{u'prev_position': -1, u'sequence': 4294967295L, u'prev_addresses': [], u'prev_value': 0, u'prev_tx_hash': u'0000000000000000000000000000000000000000000000000000000000000000', u'prev_type': u'NONSTANDARD'}], u'hash': u'524e0206668621e6164f520b07a40acb38c8e1098d9bd3d6d97ca171c388682b', u'outputs': [{u'spent_by_tx': None, u'type': u'P2PKH', u'addresses': [u'1AM2fYfpY3ZeMeCKXmN66haoWxvB89pJUx'], u'value': 1730249591, u'spent_by_tx_position': -1}, {u'spent_by_tx': None, u'type': u'NULL_DATA', u'addresses': [], u'value': 0, u'spent_by_tx_position': -1}, {u'spent_by_tx': None, u'type': u'P2SH', u'addresses': [u'3G7y14BudP2a4kjPAuecg4iUKM84GgPPWb'], u'value': 17477268, u'spent_by_tx_position': -1}], u'outputs_value': 1747726859, u'confirmations': 292, u'is_sw_tx': True, u'lock_time': 0, u'inputs_value': 0, u'created_at': 1514678898, u'inputs_count': 1, u'vsize': 195, u'outputs_count': 3}\n"
     ]
    }
   ],
   "source": [
    "transactions = resp['data']['list']\n",
    "\n",
    "processed_txs = []\n",
    "\n",
    "for i in transactions:\n",
    "    next_tx = {}\n",
    "    \n",
    "    #Unique Hash\n",
    "    next_tx['txhash'] = i['hash']\n",
    "    \n",
    "    #Timestamps\n",
    "    timestamp = i['block_time']\n",
    "    next_tx['unixtimestamp'] = timestamp\n",
    "    next_tx['datetime'] = datetime.datetime.fromtimestamp(timestamp).strftime(\"%Y-%m-%d %H:%M:%S\")\n",
    "    \n",
    "    #Account Sending\n",
    "    if i['is_coinbase']:\n",
    "        next_tx['sender'] = 'Coinbase' #Can we do a numeric value to define coinbase?\n",
    "    else:\n",
    "        next_tx['sender'] = \n",
    "    \n",
    "    processed_txs.append(next_tx)\n",
    "    break\n",
    "    \n",
    "print processed_txs"
   ]
  },
  {
   "cell_type": "code",
   "execution_count": null,
   "metadata": {},
   "outputs": [],
   "source": []
  }
 ],
 "metadata": {
  "kernelspec": {
   "display_name": "Python 2",
   "language": "python",
   "name": "python2"
  },
  "language_info": {
   "codemirror_mode": {
    "name": "ipython",
    "version": 2
   },
   "file_extension": ".py",
   "mimetype": "text/x-python",
   "name": "python",
   "nbconvert_exporter": "python",
   "pygments_lexer": "ipython2",
   "version": "2.7.14"
  }
 },
 "nbformat": 4,
 "nbformat_minor": 2
}
