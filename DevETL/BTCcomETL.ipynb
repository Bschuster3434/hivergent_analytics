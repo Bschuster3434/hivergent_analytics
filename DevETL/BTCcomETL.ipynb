{
 "cells": [
  {
   "cell_type": "code",
   "execution_count": 62,
   "metadata": {},
   "outputs": [],
   "source": [
    "import pandas\n",
    "import requests\n",
    "from requests.compat import urljoin\n",
    "import datetime\n",
    "import time\n",
    "import json"
   ]
  },
  {
   "cell_type": "code",
   "execution_count": 63,
   "metadata": {},
   "outputs": [],
   "source": [
    "#Appears to be a freely available BTC API\n",
    "#https://btc.com/api-doc#General"
   ]
  },
  {
   "cell_type": "code",
   "execution_count": 67,
   "metadata": {},
   "outputs": [],
   "source": [
    "#Starting Point for analysis\n",
    "starting_block = 501798 #Dec 31st 2017 start\n",
    "ending_block = 501960 #Dec 31st 2017 end\n",
    "get_blocks_by_range = 100\n",
    "satoshi_to_BTC = 100000000"
   ]
  },
  {
   "cell_type": "code",
   "execution_count": 68,
   "metadata": {},
   "outputs": [],
   "source": [
    "#https://chain.api.btc.com/v3/block/3\n",
    "url_endpoint = \"https://chain.api.btc.com\""
   ]
  },
  {
   "cell_type": "code",
   "execution_count": 69,
   "metadata": {},
   "outputs": [],
   "source": [
    "#Datapoints per transaction needed\n",
    "# Timestamp\n",
    "# Unique Hash\n",
    "# Account Sending\n",
    "# Account Receiving (May be smart contract)\n",
    "# Tx Fee\n",
    "# Size of Data\n",
    "# Network Name (duh)\n",
    "# Transaction Status\n",
    "# Value of Transaction"
   ]
  },
  {
   "cell_type": "code",
   "execution_count": 73,
   "metadata": {},
   "outputs": [
    {
     "name": "stdout",
     "output_type": "stream",
     "text": [
      "Current Block: 501798\n",
      "Total blocks processed: 0\n",
      "Total Transactions processed: 50\n",
      "2018-01-02 14:55:05.579000\n",
      "Current Block: 501808\n",
      "Total blocks processed: 10\n",
      "Total Transactions processed: 550\n",
      "2018-01-02 14:55:15.160000\n",
      "Current Block: 501818\n",
      "Total blocks processed: 20\n",
      "Total Transactions processed: 1050\n",
      "2018-01-02 14:55:24.557000\n",
      "Current Block: 501828\n",
      "Total blocks processed: 30\n",
      "Total Transactions processed: 1550\n",
      "2018-01-02 14:55:35.703000\n",
      "Current Block: 501838\n",
      "Total blocks processed: 40\n",
      "Total Transactions processed: 2050\n",
      "2018-01-02 14:55:47.554000\n",
      "Current Block: 501848\n",
      "Total blocks processed: 50\n",
      "Total Transactions processed: 2550\n",
      "2018-01-02 14:55:56.991000\n",
      "Current Block: 501858\n",
      "Total blocks processed: 60\n",
      "Total Transactions processed: 3001\n",
      "2018-01-02 14:56:09.175000\n",
      "Current Block: 501868\n",
      "Total blocks processed: 70\n",
      "Total Transactions processed: 3501\n",
      "2018-01-02 14:56:22.293000\n",
      "Current Block: 501878\n",
      "Total blocks processed: 80\n",
      "Total Transactions processed: 4001\n",
      "2018-01-02 14:56:33.839000\n",
      "Current Block: 501888\n",
      "Total blocks processed: 90\n",
      "Total Transactions processed: 4501\n",
      "2018-01-02 14:56:44.307000\n",
      "Completed\n",
      "2018-01-02 14:56:54.209000\n"
     ]
    }
   ],
   "source": [
    "processed_txs = []\n",
    "\n",
    "for b in range(get_blocks_by_range):\n",
    "    next_block = starting_block + b\n",
    "    next_url_call = urljoin(url_endpoint, \"v3/block/\" + str(next_block) + \"/tx\")\n",
    "    resp = json.loads(requests.get(next_url_call).content)\n",
    "\n",
    "    transactions = resp['data']['list']\n",
    "\n",
    "    for i in transactions:\n",
    "        next_tx = {'network': \"Bitcoin\"}\n",
    "\n",
    "        #Unique Hash\n",
    "        next_tx['txhash'] = i['hash']\n",
    "\n",
    "        #Timestamps\n",
    "        timestamp = i['block_time']\n",
    "        next_tx['unixtimestamp'] = timestamp\n",
    "        next_tx['datetime'] = datetime.datetime.fromtimestamp(timestamp).strftime(\"%Y-%m-%d %H:%M:%S\")\n",
    "\n",
    "        #Account Sending\n",
    "        if i['is_coinbase']:\n",
    "            next_tx['sender'] = 'Coinbase' #Can we do a numeric value to define coinbase?\n",
    "        else:\n",
    "            next_tx['sender'] = \"SomeNumberOfSenders\"\n",
    "\n",
    "        #Account Receiving\n",
    "        next_tx['receiver'] = \"SomeNumberOfReceivers\"\n",
    "\n",
    "        #TxFee\n",
    "        if i['is_coinbase']:\n",
    "            next_tx['txfee'] = 0\n",
    "        else:\n",
    "            next_tx['txfee'] = i['fee']/float(satoshi_to_BTC)\n",
    "\n",
    "        #Status\n",
    "        if i['is_double_spend']:\n",
    "            next_tx['status'] = 0\n",
    "        else:\n",
    "            next_tx['status'] = 1\n",
    "\n",
    "        #Value of Transaction\n",
    "        next_tx['value'] = i['outputs_value']/float(satoshi_to_BTC)\n",
    "\n",
    "        processed_txs.append(next_tx)\n",
    "    \n",
    "    time.sleep(.5)\n",
    "    \n",
    "    if b%10 == 0:\n",
    "        print \"Current Block: \" + str(next_block)\n",
    "        print \"Total blocks processed: \" + str(b)\n",
    "        print \"Total Transactions processed: \" + str(len(processed_txs))\n",
    "        print datetime.datetime.now()\n",
    "\n",
    "print \"Completed\"\n",
    "print datetime.datetime.now()"
   ]
  },
  {
   "cell_type": "code",
   "execution_count": 74,
   "metadata": {},
   "outputs": [],
   "source": [
    "df = pandas.DataFrame.from_dict(processed_txs)\n",
    "\n",
    "df.to_csv(\"Bitcoin_20171231_transactions.csv\")"
   ]
  },
  {
   "cell_type": "code",
   "execution_count": null,
   "metadata": {},
   "outputs": [],
   "source": []
  }
 ],
 "metadata": {
  "kernelspec": {
   "display_name": "Python 2",
   "language": "python",
   "name": "python2"
  },
  "language_info": {
   "codemirror_mode": {
    "name": "ipython",
    "version": 2
   },
   "file_extension": ".py",
   "mimetype": "text/x-python",
   "name": "python",
   "nbconvert_exporter": "python",
   "pygments_lexer": "ipython2",
   "version": "2.7.14"
  }
 },
 "nbformat": 4,
 "nbformat_minor": 2
}
