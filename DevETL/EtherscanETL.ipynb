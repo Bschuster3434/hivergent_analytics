{
 "cells": [
  {
   "cell_type": "code",
   "execution_count": 143,
   "metadata": {},
   "outputs": [],
   "source": [
    "import pandas\n",
    "import requests\n",
    "import datetime\n",
    "import time\n",
    "import json"
   ]
  },
  {
   "cell_type": "code",
   "execution_count": 138,
   "metadata": {},
   "outputs": [],
   "source": [
    "etherscan_api_key = \"SU775DFF8GEGMER3B8ZPK3QZIJWGIBE45T\"\n",
    "url_endpoint = \"https://api.etherscan.io/api\""
   ]
  },
  {
   "cell_type": "code",
   "execution_count": 139,
   "metadata": {},
   "outputs": [],
   "source": [
    "#Starting Point for analysis\n",
    "starting_block = 4826779 #Dec 31st 2017 start\n",
    "ending_block = 4832685 #Dec 31st 2017 end\n",
    "hex_starting_block = hex(starting_block)\n",
    "hex_end_block = hex(ending_block)\n",
    "get_blocks_by_range = 100"
   ]
  },
  {
   "cell_type": "code",
   "execution_count": 140,
   "metadata": {},
   "outputs": [],
   "source": [
    "def tx_cost_in_ETH(gasused, gasprice):\n",
    "    '''\n",
    "    Does the conversion to get the actual transaction fee (in ETH) for each ethereum transaction.\n",
    "    '''\n",
    "    wei_in_ETH = 1000000000000000000\n",
    "    cost_in_eth = (gasused * gasprice)/float(wei_in_ETH)\n",
    "    return cost_in_eth"
   ]
  },
  {
   "cell_type": "code",
   "execution_count": 141,
   "metadata": {},
   "outputs": [],
   "source": [
    "#Datapoints per transaction needed\n",
    "# Timestamp\n",
    "# Unique Hash\n",
    "# Account Sending\n",
    "# Account Receiving (May be smart contract)\n",
    "# Tx Fee\n",
    "# Size of Data (I don't see this here... I'll skip it for now)\n",
    "# Network Name (duh)\n",
    "# Transaction Status\n",
    "# Value of Tx"
   ]
  },
  {
   "cell_type": "code",
   "execution_count": 146,
   "metadata": {},
   "outputs": [
    {
     "name": "stdout",
     "output_type": "stream",
     "text": [
      "Next Block is 4826779\n",
      "2018-01-01 14:58:00.392000\n",
      "Next Block is 4826780\n",
      "2018-01-01 14:58:27.358000\n",
      "Next Block is 4826781\n",
      "2018-01-01 14:59:21.439000\n",
      "Next Block is 4826782\n",
      "2018-01-01 15:00:39.914000\n",
      "Next Block is 4826783\n",
      "2018-01-01 15:02:27.076000\n",
      "Next Block is 4826784\n",
      "2018-01-01 15:04:44.514000\n",
      "Next Block is 4826785\n",
      "2018-01-01 15:07:33.848000\n",
      "Next Block is 4826786\n",
      "2018-01-01 15:10:43.125000\n",
      "Next Block is 4826787\n",
      "2018-01-01 15:14:21.448000\n",
      "Next Block is 4826788\n",
      "2018-01-01 15:18:30.856000\n"
     ]
    }
   ],
   "source": [
    "#Transactions processed for this group of blocks\n",
    "processed_txs = []\n",
    "\n",
    "#Loop for all transactions\n",
    "for i in range(10):\n",
    "    #Get Transactions in a Block\n",
    "    #https://github.com/ethereum/wiki/wiki/JSON-RPC#eth_gettransactionbyhash\n",
    "    next_block = starting_block + i\n",
    "    hex_next_block = hex(next_block)\n",
    "    \n",
    "    print \"Next Block is \" + str(next_block)\n",
    "    print datetime.datetime.now()\n",
    "    \n",
    "    #Go and grab all transactions in the block\n",
    "    params = {\"module\":\"proxy\", \"action\":\"eth_getBlockByNumber\", \"tag\" : hex_starting_block, \"boolean\":\"true\", \"apikey\": etherscan_api_key}\n",
    "    resp = requests.get(url_endpoint, params=params)\n",
    "    resp_dict = json.loads(resp.content) #Get a string, must eval to a dict\n",
    "\n",
    "    #Timestamp\n",
    "\n",
    "    timestamp = int(resp_dict['result']['timestamp'],0)\n",
    "    unix_timestamp = int(resp_dict['result']['timestamp'],0)\n",
    "    timestamp = datetime.datetime.fromtimestamp(timestamp).strftime(\"%Y-%m-%d %H:%M:%S\")\n",
    "\n",
    "    #Every other feature will be found in the transactions\n",
    "\n",
    "    transactions = resp_dict['result']['transactions']\n",
    "    transactions\n",
    "\n",
    "    for i in transactions:\n",
    "        #Initialize the next transaction\n",
    "        next_tx = {'datetime': timestamp, 'unixtimestamp': unix_timestamp, 'network': \"Ethereum\"}\n",
    "\n",
    "        #Unique Hash\n",
    "        next_tx['txhash'] = i['hash']\n",
    "\n",
    "        #Account Sending\n",
    "        next_tx['sender'] = i['from']\n",
    "\n",
    "        #Account Receiving\n",
    "        next_tx['receiver'] = i['to']\n",
    "\n",
    "        #Tx Fee\n",
    "        #Can't evaluate the fee until we get the receipt info, which is a separate call.\n",
    "        #Oh Bother.\n",
    "        next_tx['gasprice'] = int(i['gasPrice'],0)    \n",
    "\n",
    "        processed_txs.append(next_tx)\n",
    "\n",
    "#Now I'm going through and grabbing the transaction hashes\n",
    "for i in processed_txs:\n",
    "    tx_hash = i['txhash']\n",
    "\n",
    "    params = {\"module\":\"proxy\", \"action\":\"eth_getTransactionReceipt\", \"txhash\" : tx_hash, \"apikey\": etherscan_api_key}\n",
    "    resp = requests.get(url_endpoint, params=params)\n",
    "    resp_dict = json.loads(resp.content)\n",
    "\n",
    "    i[\"gasused\"] = int(resp_dict['result']['gasUsed'],0)\n",
    "    i['status'] = int(resp_dict['result']['status'],0)\n",
    "    i['txfee'] = tx_cost_in_ETH(i['gasused'], i['gasprice'])"
   ]
  },
  {
   "cell_type": "code",
   "execution_count": 147,
   "metadata": {},
   "outputs": [],
   "source": [
    "df = pandas.DataFrame.from_dict(processed_txs)\n",
    "\n",
    "df.to_csv(\"20171231_transactions.csv\")"
   ]
  },
  {
   "cell_type": "code",
   "execution_count": 136,
   "metadata": {},
   "outputs": [
    {
     "name": "stdout",
     "output_type": "stream",
     "text": [
      "2018-01-01 13:55:52.019000\n"
     ]
    }
   ],
   "source": []
  },
  {
   "cell_type": "code",
   "execution_count": null,
   "metadata": {},
   "outputs": [],
   "source": []
  }
 ],
 "metadata": {
  "kernelspec": {
   "display_name": "Python 2",
   "language": "python",
   "name": "python2"
  },
  "language_info": {
   "codemirror_mode": {
    "name": "ipython",
    "version": 2
   },
   "file_extension": ".py",
   "mimetype": "text/x-python",
   "name": "python",
   "nbconvert_exporter": "python",
   "pygments_lexer": "ipython2",
   "version": "2.7.14"
  }
 },
 "nbformat": 4,
 "nbformat_minor": 2
}
