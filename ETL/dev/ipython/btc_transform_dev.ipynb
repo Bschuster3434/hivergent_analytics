{
 "cells": [
  {
   "cell_type": "code",
   "execution_count": 38,
   "metadata": {},
   "outputs": [],
   "source": [
    "import json\n",
    "import os\n",
    "import datetime\n",
    "import pandas as pd\n",
    "from datetime import datetime\n",
    "from dateutil import tz"
   ]
  },
  {
   "cell_type": "code",
   "execution_count": 27,
   "metadata": {},
   "outputs": [],
   "source": [
    "json_dir = r\"C:\\Users\\Bschuster\\Documents\\hivergent_analytics\\ETL\\dev\\api_extracts\\btc\\json\"\n",
    "satoshi_to_BTC = 100000000"
   ]
  },
  {
   "cell_type": "code",
   "execution_count": 28,
   "metadata": {},
   "outputs": [
    {
     "data": {
      "text/plain": [
       "['btc_501798_501802.json',\n",
       " 'btc_501803_501807.json',\n",
       " 'btc_501808_501812.json',\n",
       " 'btc_501813_501817.json',\n",
       " 'btc_501818_501822.json',\n",
       " 'btc_501823_501827.json',\n",
       " 'btc_501828_501832.json',\n",
       " 'btc_501833_501837.json',\n",
       " 'btc_501838_501842.json',\n",
       " 'btc_501843_501847.json',\n",
       " 'btc_501848_501852.json',\n",
       " 'btc_501853_501857.json',\n",
       " 'btc_501858_501862.json',\n",
       " 'btc_501863_501867.json',\n",
       " 'btc_501868_501872.json',\n",
       " 'btc_501873_501877.json',\n",
       " 'btc_501878_501882.json',\n",
       " 'btc_501883_501887.json',\n",
       " 'btc_501888_501892.json',\n",
       " 'btc_501893_501897.json',\n",
       " 'btc_501898_501902.json',\n",
       " 'btc_501903_501907.json',\n",
       " 'btc_501908_501912.json',\n",
       " 'btc_501913_501917.json',\n",
       " 'btc_501918_501922.json',\n",
       " 'btc_501923_501927.json',\n",
       " 'btc_501928_501932.json',\n",
       " 'btc_501933_501937.json',\n",
       " 'btc_501938_501942.json',\n",
       " 'btc_501943_501947.json',\n",
       " 'btc_501948_501952.json',\n",
       " 'btc_501953_501957.json',\n",
       " 'btc_501958_501960.json']"
      ]
     },
     "execution_count": 28,
     "metadata": {},
     "output_type": "execute_result"
    }
   ],
   "source": [
    "os.listdir(json_dir)"
   ]
  },
  {
   "cell_type": "code",
   "execution_count": 29,
   "metadata": {},
   "outputs": [],
   "source": [
    "test_file = json_dir + r'/' + os.listdir(json_dir)[0]\n",
    "with open (test_file, 'r') as f:\n",
    "    data = f.read()"
   ]
  },
  {
   "cell_type": "code",
   "execution_count": 30,
   "metadata": {},
   "outputs": [
    {
     "data": {
      "text/plain": [
       "'btc_501798_501802'"
      ]
     },
     "execution_count": 30,
     "metadata": {},
     "output_type": "execute_result"
    }
   ],
   "source": [
    "test_file_name = os.listdir(json_dir)[0]\n",
    "os.path.splitext(test_file_name)[0]"
   ]
  },
  {
   "cell_type": "code",
   "execution_count": 31,
   "metadata": {},
   "outputs": [],
   "source": [
    "json_data = json.loads(data)\n",
    "test_block = json_data['501798']"
   ]
  },
  {
   "cell_type": "code",
   "execution_count": 32,
   "metadata": {},
   "outputs": [
    {
     "data": {
      "text/plain": [
       "5"
      ]
     },
     "execution_count": 32,
     "metadata": {},
     "output_type": "execute_result"
    }
   ],
   "source": [
    "len(json_data)"
   ]
  },
  {
   "cell_type": "code",
   "execution_count": 6,
   "metadata": {},
   "outputs": [
    {
     "data": {
      "text/plain": [
       "True"
      ]
     },
     "execution_count": 6,
     "metadata": {},
     "output_type": "execute_result"
    }
   ],
   "source": [
    "test_block['data']['list'][0]['is_coinbase'] == True"
   ]
  },
  {
   "cell_type": "raw",
   "metadata": {},
   "source": [
    "#Transaction Data format\n",
    "  id int,\n",
    "  datetime timestamp,\n",
    "  unixtimestamp int,\n",
    "  transaction_hash VARCHAR(256),\n",
    "  sender_address VARCHAR(256),\n",
    "  transaction_type_name VARCHAR(40),\n",
    "  transaction_subtype_name VARCHAR(40),\n",
    "  fee decimal(20,10),\n",
    "  blockchain_network_name int,\n",
    "  sent_currency_name VARCHAR(40),\n",
    "  sent_currency_amount decimal(20,10),\n",
    "  exchange_received_currency_name int,\n",
    "  exchange_received_amount int,\n",
    "  exchange_rate VARCHAR(40),\n",
    "  status int"
   ]
  },
  {
   "cell_type": "code",
   "execution_count": 11,
   "metadata": {},
   "outputs": [],
   "source": [
    "def process_block_transactions(block_tx):\n",
    "    '''\n",
    "    Takes the raw transaction feed from btc.com tx api and \n",
    "    processes the txs into the data format.\n",
    "    '''\n",
    "    processed_transactions = []\n",
    "    raw_transactions = block_tx['data']['list']\n",
    "    #\n",
    "    \n",
    "    for i in raw_transactions:\n",
    "        next_tx = {}\n",
    "        \n",
    "        #We are creating one 'transaction' per sender and ignoring\n",
    "        #the receiver. We will build the attributes that will be\n",
    "        #true for all transactions, then have a final loop to \n",
    "        #go through the sender specfiic details.\n",
    "        \n",
    "        #transaction hash\n",
    "        next_tx['transaction_hash'] = i['hash']\n",
    "        \n",
    "        #unixtimestamp\n",
    "        timestamp = i['block_time']\n",
    "        next_tx['unixtimestamp'] = timestamp\n",
    "        \n",
    "        #datetime\n",
    "        next_tx['datetime'] = datetime.datetime.fromtimestamp(timestamp).strftime(\"%Y-%m-%d %H:%M:%S\")\n",
    "        \n",
    "        #blockchain network name\n",
    "        next_tx['blockchain_network_name'] = 'bitcoin'\n",
    "        \n",
    "        #sent currency name\n",
    "        next_tx['sent_currency_name'] = 'btc'\n",
    "        \n",
    "        #status\n",
    "        #if it's included in the BTC blockchain, it succeeded\n",
    "        next_tx['status'] = 1\n",
    "        \n",
    "        #If Coinbase, sender is coinbase and will be sent as such\n",
    "        if i['is_coinbase'] == True:\n",
    "            #id\n",
    "            next_tx['id'] = i['hash']\n",
    "            \n",
    "            #Sender Address\n",
    "            next_tx['sender_address'] = 'coinbase'\n",
    "            \n",
    "            #Transaction Type\n",
    "            next_tx['transaction_type_name'] = 'payment'\n",
    "            \n",
    "            #Transaction Subtype\n",
    "            next_tx['transaction_subtype_name'] = 'coinbase'\n",
    "            \n",
    "            #fee\n",
    "            next_tx['fee'] = 0 \n",
    "            \n",
    "            #Sent Currency Amount\n",
    "            next_tx['sent_currency_amount'] = i['outputs_value']/float(satoshi_to_BTC)\n",
    "            \n",
    "        else:\n",
    "            \n",
    "            for n, send_tx in enumerate(i['inputs']):\n",
    "                #id\n",
    "                next_tx['id'] = str(i['hash']) + '_' + str(n)\n",
    "                \n",
    "                #Sender Address\n",
    "                next_tx['sender_address'] = send_tx['prev_addresses'][0]\n",
    "                \n",
    "                #Transaction Type\n",
    "                next_tx['transaction_type_name'] = 'payment'\n",
    "                \n",
    "                #Transaction Subtype\n",
    "                #Will likely need to be re-worked to get more complexity\n",
    "                next_tx['transaction_subtype_name'] = 'simple_payment'\n",
    "                \n",
    "                #virtual fee calc\n",
    "                #Virtual fee calculated because each send does not have a few, but the whole tx\n",
    "                #We divide the fee by it's proportional amount of BTC sent\n",
    "                #otherwise it's possible to get a negative amount sent :( \n",
    "                total_value_of_inputs = i['inputs_value']\n",
    "                percent_of_total_tx_sent = send_tx['prev_value']/float(total_value_of_inputs)\n",
    "                virtual_fee = i['fee'] * percent_of_total_tx_sent\n",
    "                next_tx['fee'] = virtual_fee/float(satoshi_to_BTC)\n",
    "                \n",
    "                #Sent Currency Amount   \n",
    "                #With a virtual fee, we need a virtual sent amount\n",
    "                #Real sent minus virtual fee = virtual sent\n",
    "                virtual_sent = send_tx['prev_value'] - virtual_fee\n",
    "                next_tx['sent_currency_amount'] = virtual_sent/float(satoshi_to_BTC)\n",
    "    \n",
    "        processed_transactions.append(next_tx)\n",
    "    \n",
    "    return processed_transactions"
   ]
  },
  {
   "cell_type": "code",
   "execution_count": 17,
   "metadata": {},
   "outputs": [],
   "source": [
    "block_transactions = []\n",
    "for i in range(len(json_data)):\n",
    "    next_block_key = json_data.keys()[i]\n",
    "    next_block = json_data[next_block_key]\n",
    "    next_block_tx = process_block_transactions(next_block)\n",
    "    block_transactions += next_block_tx"
   ]
  },
  {
   "cell_type": "code",
   "execution_count": 35,
   "metadata": {
    "scrolled": true
   },
   "outputs": [],
   "source": [
    "test_trans = test_block['data']['list'][2]"
   ]
  },
  {
   "cell_type": "code",
   "execution_count": 36,
   "metadata": {},
   "outputs": [
    {
     "data": {
      "text/plain": [
       "{u'block_height': 501798,\n",
       " u'block_time': 1514678885,\n",
       " u'confirmations': 4308,\n",
       " u'created_at': 1514678615,\n",
       " u'fee': 315720,\n",
       " u'hash': u'ca1ee6f2d8590c4f1a5175a09e79295056aaf76684513a08619c43c02203401e',\n",
       " u'inputs': [{u'prev_addresses': [u'1B3kww63wgHvYBtv3ja4gZFRGkZwNyAT4X'],\n",
       "   u'prev_position': 0,\n",
       "   u'prev_tx_hash': u'e20821ea2c03d4c0b83a2896911a52d8f158302f053c75082f7f51d682af30fd',\n",
       "   u'prev_type': u'P2PKH',\n",
       "   u'prev_value': 72188980,\n",
       "   u'sequence': 4294967295L}],\n",
       " u'inputs_count': 1,\n",
       " u'inputs_value': 72188980,\n",
       " u'is_coinbase': False,\n",
       " u'is_double_spend': False,\n",
       " u'is_sw_tx': False,\n",
       " u'lock_time': 0,\n",
       " u'outputs': [{u'addresses': [u'1N9tfCZY1Cw6oHyYXr6ArUR2Hetp4DVLPL'],\n",
       "   u'spent_by_tx': u'cd9e6e4bb8eb9e93cdce910133da024282b7ca236096d3618e25caa8f6835f2e',\n",
       "   u'spent_by_tx_position': 51,\n",
       "   u'type': u'P2PKH',\n",
       "   u'value': 15996900},\n",
       "  {u'addresses': [u'1DXYx9DwqCuP2YydTQZWvJNsxdCPekXiEf'],\n",
       "   u'spent_by_tx': u'a1f7693eea51c59d4b6791f747c61a13a1ec9dcc45f9ca3f9347b78bd92eb758',\n",
       "   u'spent_by_tx_position': 0,\n",
       "   u'type': u'P2PKH',\n",
       "   u'value': 55876360}],\n",
       " u'outputs_count': 2,\n",
       " u'outputs_value': 71873260,\n",
       " u'sigops': 8,\n",
       " u'size': 226,\n",
       " u'version': 1,\n",
       " u'vsize': 226,\n",
       " u'weight': 904,\n",
       " u'witness_hash': u'ca1ee6f2d8590c4f1a5175a09e79295056aaf76684513a08619c43c02203401e'}"
      ]
     },
     "execution_count": 36,
     "metadata": {},
     "output_type": "execute_result"
    }
   ],
   "source": [
    "test_trans"
   ]
  },
  {
   "cell_type": "code",
   "execution_count": 39,
   "metadata": {},
   "outputs": [],
   "source": [
    "time_zone = tz.gettz('UTC')\n",
    "to_zone = tz.gettz('America/New_York')"
   ]
  },
  {
   "cell_type": "code",
   "execution_count": 47,
   "metadata": {},
   "outputs": [],
   "source": [
    "utc = datetime.utcfromtimestamp(test_trans['block_time'])\n",
    "utc = utc.replace(tzinfo=from_zone)"
   ]
  },
  {
   "cell_type": "code",
   "execution_count": 48,
   "metadata": {},
   "outputs": [
    {
     "data": {
      "text/plain": [
       "'2017-12-31 00:08:05'"
      ]
     },
     "execution_count": 48,
     "metadata": {},
     "output_type": "execute_result"
    }
   ],
   "source": [
    "utc.strftime(\"%Y-%m-%d %H:%M:%S\")"
   ]
  },
  {
   "cell_type": "code",
   "execution_count": null,
   "metadata": {},
   "outputs": [],
   "source": []
  }
 ],
 "metadata": {
  "kernelspec": {
   "display_name": "Python 2",
   "language": "python",
   "name": "python2"
  },
  "language_info": {
   "codemirror_mode": {
    "name": "ipython",
    "version": 2
   },
   "file_extension": ".py",
   "mimetype": "text/x-python",
   "name": "python",
   "nbconvert_exporter": "python",
   "pygments_lexer": "ipython2",
   "version": "2.7.14"
  }
 },
 "nbformat": 4,
 "nbformat_minor": 2
}
