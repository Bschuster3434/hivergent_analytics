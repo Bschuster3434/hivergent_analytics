{
 "cells": [
  {
   "cell_type": "code",
   "execution_count": 23,
   "metadata": {},
   "outputs": [],
   "source": [
    "import pandas\n",
    "import requests\n",
    "import datetime\n",
    "import time\n",
    "import json\n",
    "from dateutil import parser"
   ]
  },
  {
   "cell_type": "code",
   "execution_count": 24,
   "metadata": {},
   "outputs": [],
   "source": [
    "url_endpoint = \"https://data.ripple.com/v2/transactions/\"\n",
    "starting_datetime = datetime.datetime(2017,12,31,0,0)\n",
    "iso_starting_datetime = starting_datetime.isoformat()\n",
    "ending_timestamp = datetime.datetime(2017,12,31,0,3)\n",
    "iso_ending_timestamp = ending_timestamp.isoformat()\n",
    "processed_txs = []"
   ]
  },
  {
   "cell_type": "code",
   "execution_count": 25,
   "metadata": {},
   "outputs": [
    {
     "name": "stdout",
     "output_type": "stream",
     "text": [
      "Total Txs in List: 0\n",
      "Total Txs in List: 100\n",
      "Total Txs in List: 200\n",
      "Total Txs in List: 300\n",
      "Total Txs in List: 400\n",
      "Total Txs in List: 500\n",
      "Total Txs in List: 600\n",
      "Total Txs in List: 700\n",
      "Total Txs in List: 800\n",
      "Total Txs in List: 900\n",
      "Total Txs in List: 1000\n",
      "Total Txs in List: 1100\n",
      "Total Txs in List: 1200\n",
      "Total Txs in List: 1300\n",
      "Total Txs in List: 1400\n",
      "Total Txs in List: 1500\n",
      "Total Txs in List: 1600\n",
      "Total Txs in List: 1700\n",
      "Total Txs in List: 1800\n",
      "Total Txs in List: 1900\n",
      "Total Txs in List: 2000\n",
      "Total Txs in List: 2100\n",
      "Total Txs in List: 2200\n",
      "Total Txs in List: 2300\n"
     ]
    }
   ],
   "source": [
    "params = {\"start\": iso_starting_datetime , \"end\" : iso_ending_timestamp, \"limit\" : 100}\n",
    "\n",
    "while True:\n",
    "    print \"Total Txs in List: \" + str(len(processed_txs))\n",
    "    resp = requests.get(url_endpoint, params=params)\n",
    "    resp_dict = json.loads(resp.content)\n",
    "    resp = requests.get(url_endpoint, params=params)\n",
    "    resp_dict = json.loads(resp.content)\n",
    "    transactions = resp_dict['transactions']\n",
    "    processed_txs = processed_txs + transactions\n",
    "    if 'marker' in resp_dict:\n",
    "        params['marker'] = resp_dict['marker']\n",
    "    else:\n",
    "        break"
   ]
  },
  {
   "cell_type": "code",
   "execution_count": 26,
   "metadata": {},
   "outputs": [
    {
     "data": {
      "text/plain": [
       "2380"
      ]
     },
     "execution_count": 26,
     "metadata": {},
     "output_type": "execute_result"
    }
   ],
   "source": [
    "len(processed_txs)"
   ]
  },
  {
   "cell_type": "code",
   "execution_count": 27,
   "metadata": {},
   "outputs": [
    {
     "data": {
      "text/plain": [
       "{u'date': u'2017-12-31T00:03:00+00:00',\n",
       " u'hash': u'85B05147A953E02339CCAA0DB2F80B9F2785213E841F8BF9AA9F6E64BA832AB1',\n",
       " u'ledger_hash': u'1A8470DF189F55E71A7CF1962079C5BF4D1B6FF5387EE4485D4A4BF439143423',\n",
       " u'ledger_index': 35444871,\n",
       " u'meta': {u'AffectedNodes': [{u'ModifiedNode': {u'FinalFields': {u'Flags': 0,\n",
       "      u'IndexNext': u'0000000000001D18',\n",
       "      u'IndexPrevious': u'0000000000001D16',\n",
       "      u'Owner': u'rL571wnd8uigXmgrYdXrHtTVRzRefwCZSj',\n",
       "      u'RootIndex': u'F1D4CDA66EA69FFB48AB3D2519189FD54651E854273857817BE2D95E39B06ABE'},\n",
       "     u'LedgerEntryType': u'DirectoryNode',\n",
       "     u'LedgerIndex': u'160C0CE185F91BE37FC31EC01F284CFF909E1474E62358D8543BE40E350492DB'}},\n",
       "   {u'ModifiedNode': {u'FinalFields': {u'Account': u'rL571wnd8uigXmgrYdXrHtTVRzRefwCZSj',\n",
       "      u'Balance': u'80536108910',\n",
       "      u'Flags': 0,\n",
       "      u'OwnerCount': 143,\n",
       "      u'Sequence': 403917},\n",
       "     u'LedgerEntryType': u'AccountRoot',\n",
       "     u'LedgerIndex': u'5C93D704E09DB188C640B60FC784D41D2E9135DA0161CAEAFE4D6A965CF67A55',\n",
       "     u'PreviousFields': {u'Balance': u'80536116789', u'Sequence': 403916},\n",
       "     u'PreviousTxnID': u'716A025089984F87541F5B1431002391F7BBFADC36C2004DD3F7F3D452D543E3',\n",
       "     u'PreviousTxnLgrSeq': 35444871}},\n",
       "   {u'DeletedNode': {u'FinalFields': {u'Account': u'rL571wnd8uigXmgrYdXrHtTVRzRefwCZSj',\n",
       "      u'BookDirectory': u'6F32E7F31A0E9FF2A4739E5D0BA6D4B4B44B8F81F78E1FC8560A5A57E5B93646',\n",
       "      u'BookNode': u'0000000000000000',\n",
       "      u'Flags': 0,\n",
       "      u'OwnerNode': u'0000000000001D17',\n",
       "      u'PreviousTxnID': u'79A0E28215352A8991B248A47C3AFF4CB67EE32BC3B862170B86707365852295',\n",
       "      u'PreviousTxnLgrSeq': 35444393,\n",
       "      u'Sequence': 403785,\n",
       "      u'TakerGets': {u'currency': u'ETH',\n",
       "       u'issuer': u'rcA8X3TVMST1n3CJeAdGk1RdRCHii7N2h',\n",
       "       u'value': u'1.5572205'},\n",
       "      u'TakerPays': {u'currency': u'ETC',\n",
       "       u'issuer': u'rDAN8tzydyNfnNf2bfUQY6iR96UbpvNsze',\n",
       "       u'value': u'45.378703'}},\n",
       "     u'LedgerEntryType': u'Offer',\n",
       "     u'LedgerIndex': u'5E33156C6360864A5BB442D156AFAFA368B882D3EB1AB433910BA7F863E2ED80'}},\n",
       "   {u'DeletedNode': {u'FinalFields': {u'ExchangeRate': u'560A5A57E5B93646',\n",
       "      u'Flags': 0,\n",
       "      u'RootIndex': u'6F32E7F31A0E9FF2A4739E5D0BA6D4B4B44B8F81F78E1FC8560A5A57E5B93646',\n",
       "      u'TakerGetsCurrency': u'0000000000000000000000004554480000000000',\n",
       "      u'TakerGetsIssuer': u'06CC4A6D023E68AA3499C6DE3E9F2DC52B8BA254',\n",
       "      u'TakerPaysCurrency': u'0000000000000000000000004554430000000000',\n",
       "      u'TakerPaysIssuer': u'8DE37BD76D58D50B68405C42CF234D4411325DDD'},\n",
       "     u'LedgerEntryType': u'DirectoryNode',\n",
       "     u'LedgerIndex': u'6F32E7F31A0E9FF2A4739E5D0BA6D4B4B44B8F81F78E1FC8560A5A57E5B93646'}},\n",
       "   {u'CreatedNode': {u'LedgerEntryType': u'DirectoryNode',\n",
       "     u'LedgerIndex': u'6F32E7F31A0E9FF2A4739E5D0BA6D4B4B44B8F81F78E1FC8560A6CD25F3EA5C2',\n",
       "     u'NewFields': {u'ExchangeRate': u'560A6CD25F3EA5C2',\n",
       "      u'RootIndex': u'6F32E7F31A0E9FF2A4739E5D0BA6D4B4B44B8F81F78E1FC8560A6CD25F3EA5C2',\n",
       "      u'TakerGetsCurrency': u'0000000000000000000000004554480000000000',\n",
       "      u'TakerGetsIssuer': u'06CC4A6D023E68AA3499C6DE3E9F2DC52B8BA254',\n",
       "      u'TakerPaysCurrency': u'0000000000000000000000004554430000000000',\n",
       "      u'TakerPaysIssuer': u'8DE37BD76D58D50B68405C42CF234D4411325DDD'}}},\n",
       "   {u'CreatedNode': {u'LedgerEntryType': u'Offer',\n",
       "     u'LedgerIndex': u'7C28DA1B091B9431A3733FDAB89EBA75669ADF4F882B6CAC8773670147C6DB31',\n",
       "     u'NewFields': {u'Account': u'rL571wnd8uigXmgrYdXrHtTVRzRefwCZSj',\n",
       "      u'BookDirectory': u'6F32E7F31A0E9FF2A4739E5D0BA6D4B4B44B8F81F78E1FC8560A6CD25F3EA5C2',\n",
       "      u'OwnerNode': u'0000000000001D19',\n",
       "      u'Sequence': 403916,\n",
       "      u'TakerGets': {u'currency': u'ETH',\n",
       "       u'issuer': u'rcA8X3TVMST1n3CJeAdGk1RdRCHii7N2h',\n",
       "       u'value': u'1.5464386'},\n",
       "      u'TakerPays': {u'currency': u'ETC',\n",
       "       u'issuer': u'rDAN8tzydyNfnNf2bfUQY6iR96UbpvNsze',\n",
       "       u'value': u'45.378703'}}}},\n",
       "   {u'ModifiedNode': {u'FinalFields': {u'Flags': 0,\n",
       "      u'IndexPrevious': u'0000000000001D18',\n",
       "      u'Owner': u'rL571wnd8uigXmgrYdXrHtTVRzRefwCZSj',\n",
       "      u'RootIndex': u'F1D4CDA66EA69FFB48AB3D2519189FD54651E854273857817BE2D95E39B06ABE'},\n",
       "     u'LedgerEntryType': u'DirectoryNode',\n",
       "     u'LedgerIndex': u'FC78661505A4F56CEBFC47662FBADB4CCD23CF524C14A7954278E6979CD1841A'}}],\n",
       "  u'TransactionIndex': 59,\n",
       "  u'TransactionResult': u'tesSUCCESS'},\n",
       " u'tx': {u'Account': u'rL571wnd8uigXmgrYdXrHtTVRzRefwCZSj',\n",
       "  u'Fee': u'7879',\n",
       "  u'Flags': 2147483648L,\n",
       "  u'LastLedgerSequence': 35444872,\n",
       "  u'OfferSequence': 403785,\n",
       "  u'Sequence': 403916,\n",
       "  u'SigningPubKey': u'037811311F280D564F497D8C21075ADB213FFDF39B963600FBAC7C43FE7CD6F162',\n",
       "  u'TakerGets': {u'currency': u'ETH',\n",
       "   u'issuer': u'rcA8X3TVMST1n3CJeAdGk1RdRCHii7N2h',\n",
       "   u'value': u'1.5464386'},\n",
       "  u'TakerPays': {u'currency': u'ETC',\n",
       "   u'issuer': u'rDAN8tzydyNfnNf2bfUQY6iR96UbpvNsze',\n",
       "   u'value': u'45.378703'},\n",
       "  u'TransactionType': u'OfferCreate',\n",
       "  u'TxnSignature': u'304402207E819B07963E451840DC3D9DD510143E78EA30ECA08D66F290AD4C7F671D44040220503F3A525ABF663EAAA4CE1ABC69A44EA878213A687EA7974ACB1A3EDCE5BE60'}}"
      ]
     },
     "execution_count": 27,
     "metadata": {},
     "output_type": "execute_result"
    }
   ],
   "source": [
    "processed_txs[-10]"
   ]
  },
  {
   "cell_type": "code",
   "execution_count": null,
   "metadata": {},
   "outputs": [],
   "source": []
  }
 ],
 "metadata": {
  "kernelspec": {
   "display_name": "Python 2",
   "language": "python",
   "name": "python2"
  },
  "language_info": {
   "codemirror_mode": {
    "name": "ipython",
    "version": 2
   },
   "file_extension": ".py",
   "mimetype": "text/x-python",
   "name": "python",
   "nbconvert_exporter": "python",
   "pygments_lexer": "ipython2",
   "version": "2.7.14"
  }
 },
 "nbformat": 4,
 "nbformat_minor": 2
}
