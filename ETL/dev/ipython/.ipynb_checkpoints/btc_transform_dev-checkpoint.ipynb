{
 "cells": [
  {
   "cell_type": "code",
   "execution_count": 23,
   "metadata": {},
   "outputs": [],
   "source": [
    "import json\n",
    "import os\n",
    "import datetime\n",
    "import pandas as pd"
   ]
  },
  {
   "cell_type": "code",
   "execution_count": 2,
   "metadata": {},
   "outputs": [],
   "source": [
    "json_dir = r\"C:\\Users\\Bschuster\\Documents\\hivergent_analytics\\ETL\\dev\\api_extracts\\btc\\json\"\n",
    "satoshi_to_BTC = 100000000"
   ]
  },
  {
   "cell_type": "code",
   "execution_count": 3,
   "metadata": {},
   "outputs": [
    {
     "data": {
      "text/plain": [
       "['btc_501798_501802.json',\n",
       " 'btc_501803_501807.json',\n",
       " 'btc_501808_501812.json',\n",
       " 'btc_501813_501817.json',\n",
       " 'btc_501818_501822.json',\n",
       " 'btc_501823_501827.json',\n",
       " 'btc_501828_501832.json',\n",
       " 'btc_501833_501837.json',\n",
       " 'btc_501838_501842.json',\n",
       " 'btc_501843_501847.json',\n",
       " 'btc_501848_501852.json',\n",
       " 'btc_501853_501857.json',\n",
       " 'btc_501858_501862.json',\n",
       " 'btc_501863_501867.json',\n",
       " 'btc_501868_501872.json',\n",
       " 'btc_501873_501877.json',\n",
       " 'btc_501878_501882.json',\n",
       " 'btc_501883_501887.json',\n",
       " 'btc_501888_501892.json',\n",
       " 'btc_501893_501897.json',\n",
       " 'btc_501898_501902.json',\n",
       " 'btc_501903_501907.json',\n",
       " 'btc_501908_501912.json',\n",
       " 'btc_501913_501917.json',\n",
       " 'btc_501918_501922.json',\n",
       " 'btc_501923_501927.json',\n",
       " 'btc_501928_501932.json',\n",
       " 'btc_501933_501937.json',\n",
       " 'btc_501938_501942.json',\n",
       " 'btc_501943_501947.json',\n",
       " 'btc_501948_501952.json',\n",
       " 'btc_501953_501957.json',\n",
       " 'btc_501958_501960.json']"
      ]
     },
     "execution_count": 3,
     "metadata": {},
     "output_type": "execute_result"
    }
   ],
   "source": [
    "os.listdir(json_dir)"
   ]
  },
  {
   "cell_type": "code",
   "execution_count": 4,
   "metadata": {},
   "outputs": [],
   "source": [
    "test_file = json_dir + r'/' + os.listdir(json_dir)[0]\n",
    "with open (test_file, 'r') as f:\n",
    "    data = f.read()"
   ]
  },
  {
   "cell_type": "code",
   "execution_count": 22,
   "metadata": {},
   "outputs": [
    {
     "data": {
      "text/plain": [
       "'btc_501798_501802'"
      ]
     },
     "execution_count": 22,
     "metadata": {},
     "output_type": "execute_result"
    }
   ],
   "source": [
    "test_file_name = os.listdir(json_dir)[0]\n",
    "os.path.splitext(test_file_name)[0]"
   ]
  },
  {
   "cell_type": "code",
   "execution_count": 5,
   "metadata": {},
   "outputs": [],
   "source": [
    "json_data = json.loads(data)\n",
    "test_block = json_data['501798']"
   ]
  },
  {
   "cell_type": "code",
   "execution_count": 16,
   "metadata": {},
   "outputs": [
    {
     "data": {
      "text/plain": [
       "5"
      ]
     },
     "execution_count": 16,
     "metadata": {},
     "output_type": "execute_result"
    }
   ],
   "source": [
    "len(json_data)"
   ]
  },
  {
   "cell_type": "code",
   "execution_count": 6,
   "metadata": {},
   "outputs": [
    {
     "data": {
      "text/plain": [
       "True"
      ]
     },
     "execution_count": 6,
     "metadata": {},
     "output_type": "execute_result"
    }
   ],
   "source": [
    "test_block['data']['list'][0]['is_coinbase'] == True"
   ]
  },
  {
   "cell_type": "raw",
   "metadata": {},
   "source": [
    "#Transaction Data format\n",
    "  id int,\n",
    "  datetime timestamp,\n",
    "  unixtimestamp int,\n",
    "  transaction_hash VARCHAR(256),\n",
    "  sender_address VARCHAR(256),\n",
    "  transaction_type_name VARCHAR(40),\n",
    "  transaction_subtype_name VARCHAR(40),\n",
    "  fee decimal(20,10),\n",
    "  blockchain_network_name int,\n",
    "  sent_currency_name VARCHAR(40),\n",
    "  sent_currency_amount decimal(20,10),\n",
    "  exchange_received_currency_name int,\n",
    "  exchange_received_amount int,\n",
    "  exchange_rate VARCHAR(40),\n",
    "  status int"
   ]
  },
  {
   "cell_type": "code",
   "execution_count": 11,
   "metadata": {},
   "outputs": [],
   "source": [
    "def process_block_transactions(block_tx):\n",
    "    '''\n",
    "    Takes the raw transaction feed from btc.com tx api and \n",
    "    processes the txs into the data format.\n",
    "    '''\n",
    "    processed_transactions = []\n",
    "    raw_transactions = block_tx['data']['list']\n",
    "    #\n",
    "    \n",
    "    for i in raw_transactions:\n",
    "        next_tx = {}\n",
    "        \n",
    "        #We are creating one 'transaction' per sender and ignoring\n",
    "        #the receiver. We will build the attributes that will be\n",
    "        #true for all transactions, then have a final loop to \n",
    "        #go through the sender specfiic details.\n",
    "        \n",
    "        #transaction hash\n",
    "        next_tx['transaction_hash'] = i['hash']\n",
    "        \n",
    "        #unixtimestamp\n",
    "        timestamp = i['block_time']\n",
    "        next_tx['unixtimestamp'] = timestamp\n",
    "        \n",
    "        #datetime\n",
    "        next_tx['datetime'] = datetime.datetime.fromtimestamp(timestamp).strftime(\"%Y-%m-%d %H:%M:%S\")\n",
    "        \n",
    "        #blockchain network name\n",
    "        next_tx['blockchain_network_name'] = 'bitcoin'\n",
    "        \n",
    "        #sent currency name\n",
    "        next_tx['sent_currency_name'] = 'btc'\n",
    "        \n",
    "        #status\n",
    "        #if it's included in the BTC blockchain, it succeeded\n",
    "        next_tx['status'] = 1\n",
    "        \n",
    "        #If Coinbase, sender is coinbase and will be sent as such\n",
    "        if i['is_coinbase'] == True:\n",
    "            #id\n",
    "            next_tx['id'] = i['hash']\n",
    "            \n",
    "            #Sender Address\n",
    "            next_tx['sender_address'] = 'coinbase'\n",
    "            \n",
    "            #Transaction Type\n",
    "            next_tx['transaction_type_name'] = 'payment'\n",
    "            \n",
    "            #Transaction Subtype\n",
    "            next_tx['transaction_subtype_name'] = 'coinbase'\n",
    "            \n",
    "            #fee\n",
    "            next_tx['fee'] = 0 \n",
    "            \n",
    "            #Sent Currency Amount\n",
    "            next_tx['sent_currency_amount'] = i['outputs_value']/float(satoshi_to_BTC)\n",
    "            \n",
    "        else:\n",
    "            \n",
    "            for n, send_tx in enumerate(i['inputs']):\n",
    "                #id\n",
    "                next_tx['id'] = str(i['hash']) + '_' + str(n)\n",
    "                \n",
    "                #Sender Address\n",
    "                next_tx['sender_address'] = send_tx['prev_addresses'][0]\n",
    "                \n",
    "                #Transaction Type\n",
    "                next_tx['transaction_type_name'] = 'payment'\n",
    "                \n",
    "                #Transaction Subtype\n",
    "                #Will likely need to be re-worked to get more complexity\n",
    "                next_tx['transaction_subtype_name'] = 'simple_payment'\n",
    "                \n",
    "                #virtual fee calc\n",
    "                #Virtual fee calculated because each send does not have a few, but the whole tx\n",
    "                #We divide the fee by it's proportional amount of BTC sent\n",
    "                #otherwise it's possible to get a negative amount sent :( \n",
    "                total_value_of_inputs = i['inputs_value']\n",
    "                percent_of_total_tx_sent = send_tx['prev_value']/float(total_value_of_inputs)\n",
    "                virtual_fee = i['fee'] * percent_of_total_tx_sent\n",
    "                next_tx['fee'] = virtual_fee/float(satoshi_to_BTC)\n",
    "                \n",
    "                #Sent Currency Amount   \n",
    "                #With a virtual fee, we need a virtual sent amount\n",
    "                #Real sent minus virtual fee = virtual sent\n",
    "                virtual_sent = send_tx['prev_value'] - virtual_fee\n",
    "                next_tx['sent_currency_amount'] = virtual_sent/float(satoshi_to_BTC)\n",
    "    \n",
    "        processed_transactions.append(next_tx)\n",
    "    \n",
    "    return processed_transactions"
   ]
  },
  {
   "cell_type": "code",
   "execution_count": 17,
   "metadata": {},
   "outputs": [],
   "source": [
    "block_transactions = []\n",
    "for i in range(len(json_data)):\n",
    "    next_block_key = json_data.keys()[i]\n",
    "    next_block = json_data[next_block_key]\n",
    "    next_block_tx = process_block_transactions(next_block)\n",
    "    block_transactions += next_block_tx"
   ]
  },
  {
   "cell_type": "code",
   "execution_count": 18,
   "metadata": {},
   "outputs": [
    {
     "data": {
      "text/plain": [
       "7432"
      ]
     },
     "execution_count": 18,
     "metadata": {},
     "output_type": "execute_result"
    }
   ],
   "source": [
    "len(block_transactions)"
   ]
  },
  {
   "cell_type": "code",
   "execution_count": 24,
   "metadata": {},
   "outputs": [],
   "source": [
    "df = pd.DataFrame.from_dict(block_transactions)"
   ]
  },
  {
   "cell_type": "code",
   "execution_count": null,
   "metadata": {},
   "outputs": [],
   "source": [
    "df.to_csv"
   ]
  }
 ],
 "metadata": {
  "kernelspec": {
   "display_name": "Python 2",
   "language": "python",
   "name": "python2"
  },
  "language_info": {
   "codemirror_mode": {
    "name": "ipython",
    "version": 2
   },
   "file_extension": ".py",
   "mimetype": "text/x-python",
   "name": "python",
   "nbconvert_exporter": "python",
   "pygments_lexer": "ipython2",
   "version": "2.7.14"
  }
 },
 "nbformat": 4,
 "nbformat_minor": 2
}
