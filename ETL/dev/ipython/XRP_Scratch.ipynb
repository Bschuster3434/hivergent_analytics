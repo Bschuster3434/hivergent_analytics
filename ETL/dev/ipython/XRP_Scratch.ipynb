{
 "cells": [
  {
   "cell_type": "code",
   "execution_count": 17,
   "metadata": {},
   "outputs": [],
   "source": [
    "import json\n",
    "import os\n",
    "import datetime\n",
    "import pandas as pd\n",
    "from dateutil import tz\n",
    "from dateutil import parser"
   ]
  },
  {
   "cell_type": "code",
   "execution_count": 2,
   "metadata": {},
   "outputs": [],
   "source": [
    "json_dir = r\"C:\\Users\\Bschuster\\Documents\\hivergent_analytics\"\n",
    "json_dir += r\"\\ETL\\dev\\api_extracts\\xrp\\json\""
   ]
  },
  {
   "cell_type": "code",
   "execution_count": 4,
   "metadata": {},
   "outputs": [],
   "source": [
    "json_file_list = os.listdir(json_dir)\n",
    "\n",
    "test_file = json_file_list[0]\n",
    "\n",
    "next_json_file = json_dir + r'/' + test_file\n",
    "\n",
    "#Open the file and load into Json\n",
    "with open (next_json_file, 'r') as f:\n",
    "    data = f.read()\n",
    "    json_data = json.loads(data)"
   ]
  },
  {
   "cell_type": "code",
   "execution_count": 8,
   "metadata": {},
   "outputs": [],
   "source": [
    "test_tx = json_data['txs'][0]"
   ]
  },
  {
   "cell_type": "code",
   "execution_count": 9,
   "metadata": {},
   "outputs": [
    {
     "data": {
      "text/plain": [
       "{u'date': u'2017-12-31T00:00:00+00:00',\n",
       " u'hash': u'9E7F95ED41B5ECFD1BE8E10390C838AAA9A75FCA22C4838947739A70B69DE782',\n",
       " u'ledger_hash': u'AAED8C6844274FD65A252C88452837D28D03DDFFC7CF4C0ED9531FB8E9A7A79E',\n",
       " u'ledger_index': 35444819,\n",
       " u'meta': {u'AffectedNodes': [{u'ModifiedNode': {u'FinalFields': {u'Account': u'rfyNC9KSZz28NUwrTXhV7tE7cUAavby5ri',\n",
       "      u'Balance': u'143369919',\n",
       "      u'Flags': 0,\n",
       "      u'OwnerCount': 14,\n",
       "      u'Sequence': 187438},\n",
       "     u'LedgerEntryType': u'AccountRoot',\n",
       "     u'LedgerIndex': u'51085CD0DEFFC9B0E732D9EBD70D961E402312D98EF8FEF29166B773498A8D16',\n",
       "     u'PreviousFields': {u'Balance': u'143369939', u'Sequence': 187437},\n",
       "     u'PreviousTxnID': u'CFB628326DB7EF17214A5D71CF2DD9DA2C59A9CC5F71291A0F2C3CD5DF0A4CD2',\n",
       "     u'PreviousTxnLgrSeq': 35444818}},\n",
       "   {u'CreatedNode': {u'LedgerEntryType': u'Offer',\n",
       "     u'LedgerIndex': u'64509CB59515538982B6C5CCF3C7D00BF17843EFDB13E60C7D292EDAC7D30A5D',\n",
       "     u'NewFields': {u'Account': u'rfyNC9KSZz28NUwrTXhV7tE7cUAavby5ri',\n",
       "      u'BookDirectory': u'DFA3B6DDAB58C7E8E5D944E736DA4B7046C30E4F460FD9DE4F06E472C8ECD145',\n",
       "      u'OwnerNode': u'0000000000000011',\n",
       "      u'Sequence': 187437,\n",
       "      u'TakerGets': u'2257794',\n",
       "      u'TakerPays': {u'currency': u'USD',\n",
       "       u'issuer': u'rvYAfWj5gh67oV6fW32ZzP3Aw4Eubs59B',\n",
       "       u'value': u'4.3801915'}}}},\n",
       "   {u'ModifiedNode': {u'FinalFields': {u'Flags': 0,\n",
       "      u'IndexPrevious': u'0000000000000000',\n",
       "      u'Owner': u'rfyNC9KSZz28NUwrTXhV7tE7cUAavby5ri',\n",
       "      u'RootIndex': u'0E27431A94898C0E8A0B323B16717C73A012F5554CC552BFE31234CA22286E27'},\n",
       "     u'LedgerEntryType': u'DirectoryNode',\n",
       "     u'LedgerIndex': u'98AA18EB165EEAF725975D19F61E322029B816A4EFEE50880663EC7F3507C6AB'}},\n",
       "   {u'DeletedNode': {u'FinalFields': {u'Account': u'rfyNC9KSZz28NUwrTXhV7tE7cUAavby5ri',\n",
       "      u'BookDirectory': u'DFA3B6DDAB58C7E8E5D944E736DA4B7046C30E4F460FD9DE4F073B82242DF146',\n",
       "      u'BookNode': u'0000000000000000',\n",
       "      u'Flags': 0,\n",
       "      u'OwnerNode': u'0000000000000011',\n",
       "      u'PreviousTxnID': u'F902C6242B822DB4E43D4B2C594F8E178E95A8110452324AAEAFEFA6A4B7D584',\n",
       "      u'PreviousTxnLgrSeq': 35444313,\n",
       "      u'Sequence': 187423,\n",
       "      u'TakerGets': u'2221674',\n",
       "      u'TakerPays': {u'currency': u'USD',\n",
       "       u'issuer': u'rvYAfWj5gh67oV6fW32ZzP3Aw4Eubs59B',\n",
       "       u'value': u'4.5227839'}},\n",
       "     u'LedgerEntryType': u'Offer',\n",
       "     u'LedgerIndex': u'BADC236C1088BB2DC6D269811442910275B26F94EC047161CB7EEF599B0059A9'}},\n",
       "   {u'CreatedNode': {u'LedgerEntryType': u'DirectoryNode',\n",
       "     u'LedgerIndex': u'DFA3B6DDAB58C7E8E5D944E736DA4B7046C30E4F460FD9DE4F06E472C8ECD145',\n",
       "     u'NewFields': {u'ExchangeRate': u'4F06E472C8ECD145',\n",
       "      u'RootIndex': u'DFA3B6DDAB58C7E8E5D944E736DA4B7046C30E4F460FD9DE4F06E472C8ECD145',\n",
       "      u'TakerPaysCurrency': u'0000000000000000000000005553440000000000',\n",
       "      u'TakerPaysIssuer': u'0A20B3C85F482532A9578DBB3950B85CA06594D1'}}},\n",
       "   {u'DeletedNode': {u'FinalFields': {u'ExchangeRate': u'4F073B82242DF146',\n",
       "      u'Flags': 0,\n",
       "      u'RootIndex': u'DFA3B6DDAB58C7E8E5D944E736DA4B7046C30E4F460FD9DE4F073B82242DF146',\n",
       "      u'TakerGetsCurrency': u'0000000000000000000000000000000000000000',\n",
       "      u'TakerGetsIssuer': u'0000000000000000000000000000000000000000',\n",
       "      u'TakerPaysCurrency': u'0000000000000000000000005553440000000000',\n",
       "      u'TakerPaysIssuer': u'0A20B3C85F482532A9578DBB3950B85CA06594D1'},\n",
       "     u'LedgerEntryType': u'DirectoryNode',\n",
       "     u'LedgerIndex': u'DFA3B6DDAB58C7E8E5D944E736DA4B7046C30E4F460FD9DE4F073B82242DF146'}}],\n",
       "  u'TransactionIndex': 0,\n",
       "  u'TransactionResult': u'tesSUCCESS'},\n",
       " u'tx': {u'Account': u'rfyNC9KSZz28NUwrTXhV7tE7cUAavby5ri',\n",
       "  u'Fee': u'20',\n",
       "  u'Flags': 2147483648L,\n",
       "  u'LastLedgerSequence': 35444820,\n",
       "  u'OfferSequence': 187423,\n",
       "  u'Sequence': 187437,\n",
       "  u'SigningPubKey': u'025F2423C2258C42F698ACF88FFBD7F485961F6F9B689CE30EAF415A132267FB7C',\n",
       "  u'TakerGets': u'2257794',\n",
       "  u'TakerPays': {u'currency': u'USD',\n",
       "   u'issuer': u'rvYAfWj5gh67oV6fW32ZzP3Aw4Eubs59B',\n",
       "   u'value': u'4.3801915'},\n",
       "  u'TransactionType': u'OfferCreate',\n",
       "  u'TxnSignature': u'3045022100A9901FE62E71E17DEA427990CC13028B78717D6C998939054790F8EAFF4D7C4D022073CDC4D5F999FA6675CB30BC05DC61568CA31298CDD0C11EBED7F07A9FE995FC'}}"
      ]
     },
     "execution_count": 9,
     "metadata": {},
     "output_type": "execute_result"
    }
   ],
   "source": [
    "test_tx"
   ]
  },
  {
   "cell_type": "code",
   "execution_count": 13,
   "metadata": {},
   "outputs": [
    {
     "data": {
      "text/plain": [
       "True"
      ]
     },
     "execution_count": 13,
     "metadata": {},
     "output_type": "execute_result"
    }
   ],
   "source": [
    "test_tx['meta']['TransactionResult'] == 'tesSUCCESS'"
   ]
  },
  {
   "cell_type": "code",
   "execution_count": 20,
   "metadata": {},
   "outputs": [
    {
     "data": {
      "text/plain": [
       "datetime.datetime(2017, 12, 31, 0, 0, tzinfo=tzutc())"
      ]
     },
     "execution_count": 20,
     "metadata": {},
     "output_type": "execute_result"
    }
   ],
   "source": [
    "parser.parse(test_tx['date'])"
   ]
  },
  {
   "cell_type": "code",
   "execution_count": 21,
   "metadata": {},
   "outputs": [],
   "source": [
    "columns =  ['id', 'datetime', 'unixtimestamp', 'transaction_hash']\n",
    "columns += ['sender_address', 'transaction_type_name']\n",
    "columns += ['transaction_subtype_name', 'fee', 'blockchain_network_name']\n",
    "columns += ['sent_currency_name', 'sent_currency_amount']\n",
    "columns += ['exchange_received_currency_name', 'exchange_received_amount']\n",
    "columns += ['exchange_rate','status']"
   ]
  },
  {
   "cell_type": "code",
   "execution_count": 22,
   "metadata": {},
   "outputs": [
    {
     "data": {
      "text/plain": [
       "['id',\n",
       " 'datetime',\n",
       " 'unixtimestamp',\n",
       " 'transaction_hash',\n",
       " 'sender_address',\n",
       " 'transaction_type_name',\n",
       " 'transaction_subtype_name',\n",
       " 'fee',\n",
       " 'blockchain_network_name',\n",
       " 'sent_currency_name',\n",
       " 'sent_currency_amount',\n",
       " 'exchange_received_currency_name',\n",
       " 'exchange_received_amount',\n",
       " 'exchange_rate',\n",
       " 'status']"
      ]
     },
     "execution_count": 22,
     "metadata": {},
     "output_type": "execute_result"
    }
   ],
   "source": [
    "columns"
   ]
  },
  {
   "cell_type": "code",
   "execution_count": null,
   "metadata": {},
   "outputs": [],
   "source": []
  }
 ],
 "metadata": {
  "kernelspec": {
   "display_name": "Python 2",
   "language": "python",
   "name": "python2"
  },
  "language_info": {
   "codemirror_mode": {
    "name": "ipython",
    "version": 2
   },
   "file_extension": ".py",
   "mimetype": "text/x-python",
   "name": "python",
   "nbconvert_exporter": "python",
   "pygments_lexer": "ipython2",
   "version": "2.7.14"
  }
 },
 "nbformat": 4,
 "nbformat_minor": 2
}
