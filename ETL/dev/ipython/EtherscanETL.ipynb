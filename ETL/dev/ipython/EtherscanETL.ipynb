{
 "cells": [
  {
   "cell_type": "code",
   "execution_count": 1,
   "metadata": {},
   "outputs": [],
   "source": [
    "import pandas\n",
    "import requests\n",
    "import datetime\n",
    "import time\n",
    "import json"
   ]
  },
  {
   "cell_type": "code",
   "execution_count": 2,
   "metadata": {},
   "outputs": [],
   "source": [
    "etherscan_api_key = \"SU775DFF8GEGMER3B8ZPK3QZIJWGIBE45T\"\n",
    "url_endpoint = \"https://api.etherscan.io/api\""
   ]
  },
  {
   "cell_type": "code",
   "execution_count": 6,
   "metadata": {},
   "outputs": [],
   "source": [
    "#Starting Point for analysis\n",
    "starting_block = 4826779 #Dec 31st 2017 start\n",
    "ending_block = 4832685 #Dec 31st 2017 end\n",
    "hex_starting_block = hex(starting_block)\n",
    "hex_end_block = hex(ending_block)\n",
    "get_blocks_by_range = 1"
   ]
  },
  {
   "cell_type": "code",
   "execution_count": 7,
   "metadata": {},
   "outputs": [],
   "source": [
    "wei_in_ETH = 1000000000000000000\n",
    "\n",
    "def tx_cost_in_ETH(gasused, gasprice):\n",
    "    '''\n",
    "    Does the conversion to get the actual transaction fee (in ETH) for each ethereum transaction.\n",
    "    '''\n",
    "    cost_in_eth = (gasused * gasprice)/float(wei_in_ETH)\n",
    "    return cost_in_eth"
   ]
  },
  {
   "cell_type": "code",
   "execution_count": 8,
   "metadata": {},
   "outputs": [],
   "source": [
    "#Datapoints per transaction needed\n",
    "# Timestamp\n",
    "# Unique Hash\n",
    "# Account Sending\n",
    "# Account Receiving (May be smart contract)\n",
    "# Tx Fee\n",
    "# Size of Data (I don't see this here... I'll skip it for now)\n",
    "# Network Name (duh)\n",
    "# Transaction Status\n",
    "# Value of Tx"
   ]
  },
  {
   "cell_type": "code",
   "execution_count": 9,
   "metadata": {},
   "outputs": [
    {
     "name": "stdout",
     "output_type": "stream",
     "text": [
      "Now on Block: 4826779\n",
      "Total Block Count: 0\n",
      "Total count of txs: 54\n",
      "2018-01-09 11:25:28.953000\n",
      "Total Transactions processed: 0\n",
      "2018-01-09 11:25:28.957000\n",
      "Completed\n",
      "2018-01-09 11:25:52.390000\n"
     ]
    }
   ],
   "source": [
    "#Transactions processed for this group of blocks\n",
    "processed_txs = []\n",
    "\n",
    "#Loop for all transactions\n",
    "for b in range(get_blocks_by_range):\n",
    "    #Get Transactions in a Block\n",
    "    #https://github.com/ethereum/wiki/wiki/JSON-RPC#eth_gettransactionbyhash\n",
    "    next_block = starting_block + b\n",
    "    hex_next_block = hex(next_block)\n",
    "    \n",
    "    if b%10 == 0:\n",
    "        print \"Now on Block: \" + str(next_block)\n",
    "        print \"Total Block Count: \" + str(b)\n",
    "    \n",
    "    #Go and grab all transactions in the block\n",
    "    params = {\"module\":\"proxy\", \"action\":\"eth_getBlockByNumber\", \"tag\" : hex_starting_block, \"boolean\":\"true\", \"apikey\": etherscan_api_key}\n",
    "    resp = requests.get(url_endpoint, params=params)\n",
    "    resp_dict = json.loads(resp.content) #Get a string, must eval to a dict\n",
    "\n",
    "    #Timestamp\n",
    "\n",
    "    timestamp = int(resp_dict['result']['timestamp'],0)\n",
    "    unix_timestamp = int(resp_dict['result']['timestamp'],0)\n",
    "    timestamp = datetime.datetime.fromtimestamp(timestamp).strftime(\"%Y-%m-%d %H:%M:%S\")\n",
    "\n",
    "    #Every other feature will be found in the transactions\n",
    "\n",
    "    transactions = resp_dict['result']['transactions']\n",
    "\n",
    "    for i in transactions:\n",
    "        #Initialize the next transaction\n",
    "        next_tx = {'datetime': timestamp, 'unixtimestamp': unix_timestamp, 'network': \"Ethereum\"}\n",
    "\n",
    "        #Unique Hash\n",
    "        next_tx['txhash'] = i['hash']\n",
    "\n",
    "        #Account Sending\n",
    "        next_tx['sender'] = i['from']\n",
    "\n",
    "        #Account Receiving\n",
    "        next_tx['receiver'] = i['to']\n",
    "\n",
    "        #Tx Fee\n",
    "        #Can't evaluate the fee until we get the receipt info, which is a separate call.\n",
    "        #Oh Bother.\n",
    "        next_tx['gasprice'] = int(i['gasPrice'],0)  \n",
    "        \n",
    "        #Value\n",
    "        #converting from hex, to int, then from wei to ETH\n",
    "        next_tx['value'] = int(i['value'],0)/float(wei_in_ETH)\n",
    "\n",
    "        processed_txs.append(next_tx)\n",
    "\n",
    "#Now I'm going through and grabbing the transaction hashes\n",
    "\n",
    "total_transactions_to_process = len(processed_txs)\n",
    "\n",
    "print \"Total count of txs: \" + str(total_transactions_to_process)\n",
    "print datetime.datetime.now()\n",
    "\n",
    "for n, i in enumerate(processed_txs):\n",
    "    tx_hash = i['txhash']\n",
    "    \n",
    "    if n%100 == 0:\n",
    "        print \"Total Transactions processed: \" + str(n)\n",
    "        print datetime.datetime.now()\n",
    "\n",
    "    params = {\"module\":\"proxy\", \"action\":\"eth_getTransactionReceipt\", \"txhash\" : tx_hash, \"apikey\": etherscan_api_key}\n",
    "    resp = requests.get(url_endpoint, params=params)\n",
    "    resp_dict = json.loads(resp.content)\n",
    "\n",
    "    i[\"gasused\"] = int(resp_dict['result']['gasUsed'],0)\n",
    "    i['status'] = int(resp_dict['result']['status'],0)\n",
    "    i['txfee'] = tx_cost_in_ETH(i['gasused'], i['gasprice'])\n",
    "\n",
    "print \"Completed\"\n",
    "print datetime.datetime.now()"
   ]
  },
  {
   "cell_type": "code",
   "execution_count": 12,
   "metadata": {},
   "outputs": [
    {
     "data": {
      "text/plain": [
       "{u'blockHash': u'0x014922ec09e6886719ec433e9ce3d94d93ae1dad582bc15d5995e1fe034237a0',\n",
       " u'blockNumber': u'0x49a69b',\n",
       " u'from': u'0x3f5ce5fbfe3e9af3971dd833d26ba9b5c936f0be',\n",
       " u'gas': u'0x13e96',\n",
       " u'gasPrice': u'0xcce416600',\n",
       " u'hash': u'0x7ddea9cbd09ae5c4044f6f04c36b047d046f1fb2d9761aa4dcde1d49abefac38',\n",
       " u'input': u'0xa9059cbb0000000000000000000000007a7d4ab95aceb2f02e2cb5f375b47cb2b432ed750000000000000000000000000000000000000000000000007a1fe16027700000',\n",
       " u'nonce': u'0xfda37',\n",
       " u'r': u'0x6846d4000a3d910fcbf811bf25259a8d6ca8e194ba0b5446dae6f56e25a8ec72',\n",
       " u's': u'0x4a8c4312715afd83f0dde01153d69249415e1bcf5daa2d144b89f9f37c96bdfc',\n",
       " u'to': u'0x86fa049857e0209aa7d9e616f7eb3b3b78ecfdb0',\n",
       " u'transactionIndex': u'0x2',\n",
       " u'v': u'0x25',\n",
       " u'value': u'0x0'}"
      ]
     },
     "execution_count": 12,
     "metadata": {},
     "output_type": "execute_result"
    }
   ],
   "source": [
    "transactions[2]"
   ]
  },
  {
   "cell_type": "code",
   "execution_count": 39,
   "metadata": {},
   "outputs": [],
   "source": [
    "df = pandas.DataFrame.from_dict(processed_txs)\n",
    "\n",
    "df.to_csv(\"Ethereum_20171231_transactions.csv\")"
   ]
  },
  {
   "cell_type": "code",
   "execution_count": null,
   "metadata": {},
   "outputs": [],
   "source": []
  }
 ],
 "metadata": {
  "kernelspec": {
   "display_name": "Python 2",
   "language": "python",
   "name": "python2"
  },
  "language_info": {
   "codemirror_mode": {
    "name": "ipython",
    "version": 2
   },
   "file_extension": ".py",
   "mimetype": "text/x-python",
   "name": "python",
   "nbconvert_exporter": "python",
   "pygments_lexer": "ipython2",
   "version": "2.7.14"
  }
 },
 "nbformat": 4,
 "nbformat_minor": 2
}
