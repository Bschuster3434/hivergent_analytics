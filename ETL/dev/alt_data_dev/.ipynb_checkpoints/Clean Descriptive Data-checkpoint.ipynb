{
 "cells": [
  {
   "cell_type": "code",
   "execution_count": 1,
   "metadata": {},
   "outputs": [],
   "source": [
    "import json\n",
    "import pandas as pd"
   ]
  },
  {
   "cell_type": "code",
   "execution_count": 2,
   "metadata": {},
   "outputs": [],
   "source": [
    "df = pd.read_csv(\"123117_final_processed_tx.csv\")"
   ]
  },
  {
   "cell_type": "code",
   "execution_count": 3,
   "metadata": {},
   "outputs": [
    {
     "data": {
      "text/html": [
       "<div>\n",
       "<style scoped>\n",
       "    .dataframe tbody tr th:only-of-type {\n",
       "        vertical-align: middle;\n",
       "    }\n",
       "\n",
       "    .dataframe tbody tr th {\n",
       "        vertical-align: top;\n",
       "    }\n",
       "\n",
       "    .dataframe thead th {\n",
       "        text-align: right;\n",
       "    }\n",
       "</style>\n",
       "<table border=\"1\" class=\"dataframe\">\n",
       "  <thead>\n",
       "    <tr style=\"text-align: right;\">\n",
       "      <th></th>\n",
       "      <th>smart_contract_hash</th>\n",
       "      <th>smart_contract_name</th>\n",
       "      <th>token_name</th>\n",
       "      <th>decimal</th>\n",
       "      <th>usd_token_value</th>\n",
       "    </tr>\n",
       "  </thead>\n",
       "  <tbody>\n",
       "    <tr>\n",
       "      <th>0</th>\n",
       "      <td>0x0000000000b3F879cb30FE243b4Dfee438691c04</td>\n",
       "      <td>GST2_token_contract</td>\n",
       "      <td>GST2</td>\n",
       "      <td>2.0</td>\n",
       "      <td>0.00</td>\n",
       "    </tr>\n",
       "    <tr>\n",
       "      <th>1</th>\n",
       "      <td>0x003f79D7Be15dC1aD90Ce00E6eA68F335e2B789B</td>\n",
       "      <td>TZT_token_contract</td>\n",
       "      <td>TZT</td>\n",
       "      <td>8.0</td>\n",
       "      <td>0.00</td>\n",
       "    </tr>\n",
       "    <tr>\n",
       "      <th>2</th>\n",
       "      <td>0x006BeA43Baa3f7A6f765F14f10A1a1b08334EF45</td>\n",
       "      <td>StoxToken</td>\n",
       "      <td>STX</td>\n",
       "      <td>18.0</td>\n",
       "      <td>1.00</td>\n",
       "    </tr>\n",
       "    <tr>\n",
       "      <th>3</th>\n",
       "      <td>0x013A06558f07d9E6F9A00c95a33f3a0E0255176b</td>\n",
       "      <td>BALI_token_contract</td>\n",
       "      <td>BALI</td>\n",
       "      <td>18.0</td>\n",
       "      <td>1.41</td>\n",
       "    </tr>\n",
       "    <tr>\n",
       "      <th>4</th>\n",
       "      <td>0x0142C3B2fC51819B5aF5dFc4AA52Df9722790851</td>\n",
       "      <td>PaycentosToken</td>\n",
       "      <td>PYN</td>\n",
       "      <td>18.0</td>\n",
       "      <td>1.66</td>\n",
       "    </tr>\n",
       "  </tbody>\n",
       "</table>\n",
       "</div>"
      ],
      "text/plain": [
       "                          smart_contract_hash  smart_contract_name token_name  \\\n",
       "0  0x0000000000b3F879cb30FE243b4Dfee438691c04  GST2_token_contract       GST2   \n",
       "1  0x003f79D7Be15dC1aD90Ce00E6eA68F335e2B789B   TZT_token_contract        TZT   \n",
       "2  0x006BeA43Baa3f7A6f765F14f10A1a1b08334EF45            StoxToken        STX   \n",
       "3  0x013A06558f07d9E6F9A00c95a33f3a0E0255176b  BALI_token_contract       BALI   \n",
       "4  0x0142C3B2fC51819B5aF5dFc4AA52Df9722790851       PaycentosToken        PYN   \n",
       "\n",
       "   decimal  usd_token_value  \n",
       "0      2.0             0.00  \n",
       "1      8.0             0.00  \n",
       "2     18.0             1.00  \n",
       "3     18.0             1.41  \n",
       "4     18.0             1.66  "
      ]
     },
     "execution_count": 3,
     "metadata": {},
     "output_type": "execute_result"
    }
   ],
   "source": [
    "df.head()"
   ]
  },
  {
   "cell_type": "code",
   "execution_count": 6,
   "metadata": {},
   "outputs": [],
   "source": [
    "def string_and_lower(x):\n",
    "    return str(x).lower()"
   ]
  },
  {
   "cell_type": "code",
   "execution_count": 8,
   "metadata": {},
   "outputs": [],
   "source": [
    "df['smart_contract_hash'] = df['smart_contract_hash'].apply(string_and_lower)"
   ]
  },
  {
   "cell_type": "code",
   "execution_count": 9,
   "metadata": {},
   "outputs": [
    {
     "data": {
      "text/html": [
       "<div>\n",
       "<style scoped>\n",
       "    .dataframe tbody tr th:only-of-type {\n",
       "        vertical-align: middle;\n",
       "    }\n",
       "\n",
       "    .dataframe tbody tr th {\n",
       "        vertical-align: top;\n",
       "    }\n",
       "\n",
       "    .dataframe thead th {\n",
       "        text-align: right;\n",
       "    }\n",
       "</style>\n",
       "<table border=\"1\" class=\"dataframe\">\n",
       "  <thead>\n",
       "    <tr style=\"text-align: right;\">\n",
       "      <th></th>\n",
       "      <th>smart_contract_hash</th>\n",
       "      <th>smart_contract_name</th>\n",
       "      <th>token_name</th>\n",
       "      <th>decimal</th>\n",
       "      <th>usd_token_value</th>\n",
       "    </tr>\n",
       "  </thead>\n",
       "  <tbody>\n",
       "    <tr>\n",
       "      <th>0</th>\n",
       "      <td>0x0000000000b3f879cb30fe243b4dfee438691c04</td>\n",
       "      <td>GST2_token_contract</td>\n",
       "      <td>GST2</td>\n",
       "      <td>2.0</td>\n",
       "      <td>0.00</td>\n",
       "    </tr>\n",
       "    <tr>\n",
       "      <th>1</th>\n",
       "      <td>0x003f79d7be15dc1ad90ce00e6ea68f335e2b789b</td>\n",
       "      <td>TZT_token_contract</td>\n",
       "      <td>TZT</td>\n",
       "      <td>8.0</td>\n",
       "      <td>0.00</td>\n",
       "    </tr>\n",
       "    <tr>\n",
       "      <th>2</th>\n",
       "      <td>0x006bea43baa3f7a6f765f14f10a1a1b08334ef45</td>\n",
       "      <td>StoxToken</td>\n",
       "      <td>STX</td>\n",
       "      <td>18.0</td>\n",
       "      <td>1.00</td>\n",
       "    </tr>\n",
       "    <tr>\n",
       "      <th>3</th>\n",
       "      <td>0x013a06558f07d9e6f9a00c95a33f3a0e0255176b</td>\n",
       "      <td>BALI_token_contract</td>\n",
       "      <td>BALI</td>\n",
       "      <td>18.0</td>\n",
       "      <td>1.41</td>\n",
       "    </tr>\n",
       "    <tr>\n",
       "      <th>4</th>\n",
       "      <td>0x0142c3b2fc51819b5af5dfc4aa52df9722790851</td>\n",
       "      <td>PaycentosToken</td>\n",
       "      <td>PYN</td>\n",
       "      <td>18.0</td>\n",
       "      <td>1.66</td>\n",
       "    </tr>\n",
       "  </tbody>\n",
       "</table>\n",
       "</div>"
      ],
      "text/plain": [
       "                          smart_contract_hash  smart_contract_name token_name  \\\n",
       "0  0x0000000000b3f879cb30fe243b4dfee438691c04  GST2_token_contract       GST2   \n",
       "1  0x003f79d7be15dc1ad90ce00e6ea68f335e2b789b   TZT_token_contract        TZT   \n",
       "2  0x006bea43baa3f7a6f765f14f10a1a1b08334ef45            StoxToken        STX   \n",
       "3  0x013a06558f07d9e6f9a00c95a33f3a0e0255176b  BALI_token_contract       BALI   \n",
       "4  0x0142c3b2fc51819b5af5dfc4aa52df9722790851       PaycentosToken        PYN   \n",
       "\n",
       "   decimal  usd_token_value  \n",
       "0      2.0             0.00  \n",
       "1      8.0             0.00  \n",
       "2     18.0             1.00  \n",
       "3     18.0             1.41  \n",
       "4     18.0             1.66  "
      ]
     },
     "execution_count": 9,
     "metadata": {},
     "output_type": "execute_result"
    }
   ],
   "source": [
    "df.head()"
   ]
  },
  {
   "cell_type": "code",
   "execution_count": 10,
   "metadata": {},
   "outputs": [],
   "source": [
    "df.to_csv(\"123117_final_processed_tx.csv\")"
   ]
  },
  {
   "cell_type": "code",
   "execution_count": null,
   "metadata": {},
   "outputs": [],
   "source": []
  }
 ],
 "metadata": {
  "kernelspec": {
   "display_name": "Python 2",
   "language": "python",
   "name": "python2"
  },
  "language_info": {
   "codemirror_mode": {
    "name": "ipython",
    "version": 2
   },
   "file_extension": ".py",
   "mimetype": "text/x-python",
   "name": "python",
   "nbconvert_exporter": "python",
   "pygments_lexer": "ipython2",
   "version": "2.7.14"
  }
 },
 "nbformat": 4,
 "nbformat_minor": 2
}
