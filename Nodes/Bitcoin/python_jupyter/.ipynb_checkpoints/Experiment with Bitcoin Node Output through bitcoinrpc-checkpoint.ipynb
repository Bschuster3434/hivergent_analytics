{
 "cells": [
  {
   "cell_type": "code",
   "execution_count": 3,
   "metadata": {},
   "outputs": [],
   "source": [
    "import boto3\n",
    "from bitcoinrpc.authproxy import AuthServiceProxy, JSONRPCException\n",
    "from dateutil import tz\n",
    "import datetime\n",
    "import time\n",
    "import pytz\n",
    "\n",
    "#AWSVariables\n",
    "instance_size = 't2small'\n",
    "\n",
    "#BitcoinBlockchainVariables\n",
    "rpc_un = \"lambdauser\"\n",
    "rpc_pw = \"lambdauser1234\"\n",
    "host_ip = \"18.211.139.161\""
   ]
  },
  {
   "cell_type": "code",
   "execution_count": 18,
   "metadata": {},
   "outputs": [],
   "source": [
    "rpc_conn = AuthServiceProxy(\"http://%s:%s@%s:8332\"%(rpc_un,rpc_pw,host_ip))\n",
    "block_hash_100000 = rpc_conn.getblockhash(100000)"
   ]
  },
  {
   "cell_type": "code",
   "execution_count": 19,
   "metadata": {},
   "outputs": [],
   "source": [
    "block_info = rpc_conn.getblock(block_hash_100000, 4)"
   ]
  },
  {
   "cell_type": "code",
   "execution_count": 20,
   "metadata": {},
   "outputs": [
    {
     "data": {
      "text/plain": [
       "{u'bits': u'1b04864c',\n",
       " u'chainwork': u'0000000000000000000000000000000000000000000000000644cb7f5234089e',\n",
       " u'confirmations': 434428,\n",
       " u'difficulty': Decimal('14484.1623612254'),\n",
       " u'hash': u'000000000003ba27aa200b1cecaad478d2b00432346c3f1f3986da1afd33e506',\n",
       " u'height': 100000,\n",
       " u'mediantime': 1293622620,\n",
       " u'merkleroot': u'f3e94742aca4b5ef85488dc37c06c3282295ffec960994b2c0d5ac2a25a95766',\n",
       " u'nextblockhash': u'00000000000080b66c911bd5ba14a74260057311eaeb1982802f7010f1a9f090',\n",
       " u'nonce': 274148111,\n",
       " u'previousblockhash': u'000000000002d01c1fccc21636b607dfd930d31d01c3a62104612a1719011250',\n",
       " u'size': 957,\n",
       " u'strippedsize': 957,\n",
       " u'time': 1293623863,\n",
       " u'tx': [{u'hash': u'8c14f0db3df150123e6f3dbbf30f8b955a8249b62ac1d1ff16284aefa3d06d87',\n",
       "   u'hex': u'01000000010000000000000000000000000000000000000000000000000000000000000000ffffffff08044c86041b020602ffffffff0100f2052a010000004341041b0e8c2567c12536aa13357b79a073dc4444acb83c4ec7a0e2f99dd7457516c5817242da796924ca4e99947d087fedf9ce467cb9f7c6287078f801df276fdf84ac00000000',\n",
       "   u'locktime': 0,\n",
       "   u'size': 135,\n",
       "   u'txid': u'8c14f0db3df150123e6f3dbbf30f8b955a8249b62ac1d1ff16284aefa3d06d87',\n",
       "   u'version': 1,\n",
       "   u'vin': [{u'coinbase': u'044c86041b020602', u'sequence': 4294967295L}],\n",
       "   u'vout': [{u'n': 0,\n",
       "     u'scriptPubKey': {u'addresses': [u'1HWqMzw1jfpXb3xyuUZ4uWXY4tqL2cW47J'],\n",
       "      u'asm': u'041b0e8c2567c12536aa13357b79a073dc4444acb83c4ec7a0e2f99dd7457516c5817242da796924ca4e99947d087fedf9ce467cb9f7c6287078f801df276fdf84 OP_CHECKSIG',\n",
       "      u'hex': u'41041b0e8c2567c12536aa13357b79a073dc4444acb83c4ec7a0e2f99dd7457516c5817242da796924ca4e99947d087fedf9ce467cb9f7c6287078f801df276fdf84ac',\n",
       "      u'reqSigs': 1,\n",
       "      u'type': u'pubkey'},\n",
       "     u'value': Decimal('50.00000000')}],\n",
       "   u'vsize': 135},\n",
       "  {u'hash': u'fff2525b8931402dd09222c50775608f75787bd2b87e56995a7bdd30f79702c4',\n",
       "   u'hex': u'0100000001032e38e9c0a84c6046d687d10556dcacc41d275ec55fc00779ac88fdf357a187000000008c493046022100c352d3dd993a981beba4a63ad15c209275ca9470abfcd57da93b58e4eb5dce82022100840792bc1f456062819f15d33ee7055cf7b5ee1af1ebcc6028d9cdb1c3af7748014104f46db5e9d61a9dc27b8d64ad23e7383a4e6ca164593c2527c038c0857eb67ee8e825dca65046b82c9331586c82e0fd1f633f25f87c161bc6f8a630121df2b3d3ffffffff0200e32321000000001976a914c398efa9c392ba6013c5e04ee729755ef7f58b3288ac000fe208010000001976a914948c765a6914d43f2a7ac177da2c2f6b52de3d7c88ac00000000',\n",
       "   u'locktime': 0,\n",
       "   u'size': 259,\n",
       "   u'txid': u'fff2525b8931402dd09222c50775608f75787bd2b87e56995a7bdd30f79702c4',\n",
       "   u'version': 1,\n",
       "   u'vin': [{u'scriptSig': {u'asm': u'3046022100c352d3dd993a981beba4a63ad15c209275ca9470abfcd57da93b58e4eb5dce82022100840792bc1f456062819f15d33ee7055cf7b5ee1af1ebcc6028d9cdb1c3af7748[ALL] 04f46db5e9d61a9dc27b8d64ad23e7383a4e6ca164593c2527c038c0857eb67ee8e825dca65046b82c9331586c82e0fd1f633f25f87c161bc6f8a630121df2b3d3',\n",
       "      u'hex': u'493046022100c352d3dd993a981beba4a63ad15c209275ca9470abfcd57da93b58e4eb5dce82022100840792bc1f456062819f15d33ee7055cf7b5ee1af1ebcc6028d9cdb1c3af7748014104f46db5e9d61a9dc27b8d64ad23e7383a4e6ca164593c2527c038c0857eb67ee8e825dca65046b82c9331586c82e0fd1f633f25f87c161bc6f8a630121df2b3d3'},\n",
       "     u'sequence': 4294967295L,\n",
       "     u'txid': u'87a157f3fd88ac7907c05fc55e271dc4acdc5605d187d646604ca8c0e9382e03',\n",
       "     u'vout': 0}],\n",
       "   u'vout': [{u'n': 0,\n",
       "     u'scriptPubKey': {u'addresses': [u'1JqDybm2nWTENrHvMyafbSXXtTk5Uv5QAn'],\n",
       "      u'asm': u'OP_DUP OP_HASH160 c398efa9c392ba6013c5e04ee729755ef7f58b32 OP_EQUALVERIFY OP_CHECKSIG',\n",
       "      u'hex': u'76a914c398efa9c392ba6013c5e04ee729755ef7f58b3288ac',\n",
       "      u'reqSigs': 1,\n",
       "      u'type': u'pubkeyhash'},\n",
       "     u'value': Decimal('5.56000000')},\n",
       "    {u'n': 1,\n",
       "     u'scriptPubKey': {u'addresses': [u'1EYTGtG4LnFfiMvjJdsU7GMGCQvsRSjYhx'],\n",
       "      u'asm': u'OP_DUP OP_HASH160 948c765a6914d43f2a7ac177da2c2f6b52de3d7c OP_EQUALVERIFY OP_CHECKSIG',\n",
       "      u'hex': u'76a914948c765a6914d43f2a7ac177da2c2f6b52de3d7c88ac',\n",
       "      u'reqSigs': 1,\n",
       "      u'type': u'pubkeyhash'},\n",
       "     u'value': Decimal('44.44000000')}],\n",
       "   u'vsize': 259},\n",
       "  {u'hash': u'6359f0868171b1d194cbee1af2f16ea598ae8fad666d9b012c8ed2b79a236ec4',\n",
       "   u'hex': u'0100000001c33ebff2a709f13d9f9a7569ab16a32786af7d7e2de09265e41c61d078294ecf010000008a4730440220032d30df5ee6f57fa46cddb5eb8d0d9fe8de6b342d27942ae90a3231e0ba333e02203deee8060fdc70230a7f5b4ad7d7bc3e628cbe219a886b84269eaeb81e26b4fe014104ae31c31bf91278d99b8377a35bbce5b27d9fff15456839e919453fc7b3f721f0ba403ff96c9deeb680e5fd341c0fc3a7b90da4631ee39560639db462e9cb850fffffffff0240420f00000000001976a914b0dcbf97eabf4404e31d952477ce822dadbe7e1088acc060d211000000001976a9146b1281eec25ab4e1e0793ff4e08ab1abb3409cd988ac00000000',\n",
       "   u'locktime': 0,\n",
       "   u'size': 257,\n",
       "   u'txid': u'6359f0868171b1d194cbee1af2f16ea598ae8fad666d9b012c8ed2b79a236ec4',\n",
       "   u'version': 1,\n",
       "   u'vin': [{u'scriptSig': {u'asm': u'30440220032d30df5ee6f57fa46cddb5eb8d0d9fe8de6b342d27942ae90a3231e0ba333e02203deee8060fdc70230a7f5b4ad7d7bc3e628cbe219a886b84269eaeb81e26b4fe[ALL] 04ae31c31bf91278d99b8377a35bbce5b27d9fff15456839e919453fc7b3f721f0ba403ff96c9deeb680e5fd341c0fc3a7b90da4631ee39560639db462e9cb850f',\n",
       "      u'hex': u'4730440220032d30df5ee6f57fa46cddb5eb8d0d9fe8de6b342d27942ae90a3231e0ba333e02203deee8060fdc70230a7f5b4ad7d7bc3e628cbe219a886b84269eaeb81e26b4fe014104ae31c31bf91278d99b8377a35bbce5b27d9fff15456839e919453fc7b3f721f0ba403ff96c9deeb680e5fd341c0fc3a7b90da4631ee39560639db462e9cb850f'},\n",
       "     u'sequence': 4294967295L,\n",
       "     u'txid': u'cf4e2978d0611ce46592e02d7e7daf8627a316ab69759a9f3df109a7f2bf3ec3',\n",
       "     u'vout': 1}],\n",
       "   u'vout': [{u'n': 0,\n",
       "     u'scriptPubKey': {u'addresses': [u'1H8ANdafjpqYntniT3Ddxh4xPBMCSz33pj'],\n",
       "      u'asm': u'OP_DUP OP_HASH160 b0dcbf97eabf4404e31d952477ce822dadbe7e10 OP_EQUALVERIFY OP_CHECKSIG',\n",
       "      u'hex': u'76a914b0dcbf97eabf4404e31d952477ce822dadbe7e1088ac',\n",
       "      u'reqSigs': 1,\n",
       "      u'type': u'pubkeyhash'},\n",
       "     u'value': Decimal('0.01000000')},\n",
       "    {u'n': 1,\n",
       "     u'scriptPubKey': {u'addresses': [u'1Am9UTGfdnxabvcywYG2hvzr6qK8T3oUZT'],\n",
       "      u'asm': u'OP_DUP OP_HASH160 6b1281eec25ab4e1e0793ff4e08ab1abb3409cd9 OP_EQUALVERIFY OP_CHECKSIG',\n",
       "      u'hex': u'76a9146b1281eec25ab4e1e0793ff4e08ab1abb3409cd988ac',\n",
       "      u'reqSigs': 1,\n",
       "      u'type': u'pubkeyhash'},\n",
       "     u'value': Decimal('2.99000000')}],\n",
       "   u'vsize': 257},\n",
       "  {u'hash': u'e9a66845e05d5abc0ad04ec80f774a7e585c6e8db975962d069a522137b80c1d',\n",
       "   u'hex': u'01000000010b6072b386d4a773235237f64c1126ac3b240c84b917a3909ba1c43ded5f51f4000000008c493046022100bb1ad26df930a51cce110cf44f7a48c3c561fd977500b1ae5d6b6fd13d0b3f4a022100c5b42951acedff14abba2736fd574bdb465f3e6f8da12e2c5303954aca7f78f3014104a7135bfe824c97ecc01ec7d7e336185c81e2aa2c41ab175407c09484ce9694b44953fcb751206564a9c24dd094d42fdbfdd5aad3e063ce6af4cfaaea4ea14fbbffffffff0140420f00000000001976a91439aa3d569e06a1d7926dc4be1193c99bf2eb9ee088ac00000000',\n",
       "   u'locktime': 0,\n",
       "   u'size': 225,\n",
       "   u'txid': u'e9a66845e05d5abc0ad04ec80f774a7e585c6e8db975962d069a522137b80c1d',\n",
       "   u'version': 1,\n",
       "   u'vin': [{u'scriptSig': {u'asm': u'3046022100bb1ad26df930a51cce110cf44f7a48c3c561fd977500b1ae5d6b6fd13d0b3f4a022100c5b42951acedff14abba2736fd574bdb465f3e6f8da12e2c5303954aca7f78f3[ALL] 04a7135bfe824c97ecc01ec7d7e336185c81e2aa2c41ab175407c09484ce9694b44953fcb751206564a9c24dd094d42fdbfdd5aad3e063ce6af4cfaaea4ea14fbb',\n",
       "      u'hex': u'493046022100bb1ad26df930a51cce110cf44f7a48c3c561fd977500b1ae5d6b6fd13d0b3f4a022100c5b42951acedff14abba2736fd574bdb465f3e6f8da12e2c5303954aca7f78f3014104a7135bfe824c97ecc01ec7d7e336185c81e2aa2c41ab175407c09484ce9694b44953fcb751206564a9c24dd094d42fdbfdd5aad3e063ce6af4cfaaea4ea14fbb'},\n",
       "     u'sequence': 4294967295L,\n",
       "     u'txid': u'f4515fed3dc4a19b90a317b9840c243bac26114cf637522373a7d486b372600b',\n",
       "     u'vout': 0}],\n",
       "   u'vout': [{u'n': 0,\n",
       "     u'scriptPubKey': {u'addresses': [u'16FuTPaeRSPVxxCnwQmdyx2PQWxX6HWzhQ'],\n",
       "      u'asm': u'OP_DUP OP_HASH160 39aa3d569e06a1d7926dc4be1193c99bf2eb9ee0 OP_EQUALVERIFY OP_CHECKSIG',\n",
       "      u'hex': u'76a91439aa3d569e06a1d7926dc4be1193c99bf2eb9ee088ac',\n",
       "      u'reqSigs': 1,\n",
       "      u'type': u'pubkeyhash'},\n",
       "     u'value': Decimal('0.01000000')}],\n",
       "   u'vsize': 225}],\n",
       " u'version': 1,\n",
       " u'versionHex': u'00000001',\n",
       " u'weight': 3828}"
      ]
     },
     "execution_count": 20,
     "metadata": {},
     "output_type": "execute_result"
    }
   ],
   "source": [
    "block_info"
   ]
  },
  {
   "cell_type": "code",
   "execution_count": null,
   "metadata": {},
   "outputs": [],
   "source": []
  }
 ],
 "metadata": {
  "kernelspec": {
   "display_name": "Python 2",
   "language": "python",
   "name": "python2"
  },
  "language_info": {
   "codemirror_mode": {
    "name": "ipython",
    "version": 2
   },
   "file_extension": ".py",
   "mimetype": "text/x-python",
   "name": "python",
   "nbconvert_exporter": "python",
   "pygments_lexer": "ipython2",
   "version": "2.7.14"
  }
 },
 "nbformat": 4,
 "nbformat_minor": 2
}
